{
 "cells": [
  {
   "cell_type": "markdown",
   "metadata": {},
   "source": [
    "#### 1．打印出所有的\"水仙花数\"，所谓\"水仙花数\"是指一个三位数，其各位数字立方和等于该数本身。例如：153是一个\"水仙花数\"，因为153=1的三次方＋5的三次方＋3的三次方。"
   ]
  },
  {
   "cell_type": "code",
   "execution_count": 1,
   "metadata": {},
   "outputs": [
    {
     "name": "stdout",
     "output_type": "stream",
     "text": [
      "153\n",
      "370\n",
      "371\n",
      "407\n"
     ]
    }
   ],
   "source": [
    "for i in range(100, 1000):\n",
    "    a = int(i / 100)\n",
    "    b = int(i / 10) % 10\n",
    "    c = i % 10\n",
    "    if a ** 3 + b ** 3 + c ** 3 == i:\n",
    "        print(i)"
   ]
  },
  {
   "cell_type": "markdown",
   "metadata": {},
   "source": [
    "#### 2. “回文”是指正读反读都能读通的句子，它是古今中外都有的一种修辞方式和文字游戏，如“我为人人，人人为我”等。在数学中也有这样一类数字有这样的特征，称为回文数（palindrome number），例如10001,9889等，设计一个函数f用于检查输入的数字是否为回文数，返回布尔类型"
   ]
  },
  {
   "cell_type": "code",
   "execution_count": 2,
   "metadata": {},
   "outputs": [
    {
     "name": "stdout",
     "output_type": "stream",
     "text": [
      "True\n"
     ]
    }
   ],
   "source": [
    "def checkPalindromeNumber(number):\n",
    "    print(str(number)[::-1] == str(number))\n",
    "checkPalindromeNumber(1001)"
   ]
  },
  {
   "cell_type": "markdown",
   "metadata": {},
   "source": [
    "#### 3.有三个学生stu1,stu2,stu3如下所示：\n",
    "#### stu1 = {\"大学英语\":98,\"色彩学基础\":99,\"普通话\":70}\n",
    "#### stu2 = {\"大学英语\":97,\"音乐鉴赏\":90,\"会计基础\":89}\n",
    "#### stu3 = {\"大学英语\":44,\"普通话\":63,\"网店运营\":90}\n",
    "#### 请编程完成下列要求："
   ]
  },
  {
   "cell_type": "markdown",
   "metadata": {},
   "source": [
    "##### （1）全校（假设仅3个学生）总共开了多少门课程"
   ]
  },
  {
   "cell_type": "code",
   "execution_count": 5,
   "metadata": {},
   "outputs": [
    {
     "name": "stdout",
     "output_type": "stream",
     "text": [
      "6\n"
     ]
    }
   ],
   "source": [
    "stu1 = {\"大学英语\": 98, \"色彩学基础\": 99, \"普通话\": 70}\n",
    "stu2 = {\"大学英语\": 97, \"音乐鉴赏\": 90, \"会计基础\": 89}\n",
    "stu3 = {\"大学英语\": 44, \"普通话\": 63, \"网店运营\": 90}\n",
    "\n",
    "res = dict(dict(stu1, **stu2), **stu3)\n",
    "print(len(res.items()))"
   ]
  },
  {
   "cell_type": "markdown",
   "metadata": {},
   "source": [
    "##### （2）找出三个学生都选的课程"
   ]
  },
  {
   "cell_type": "code",
   "execution_count": 6,
   "metadata": {},
   "outputs": [
    {
     "name": "stdout",
     "output_type": "stream",
     "text": [
      "{'大学英语'}\n"
     ]
    }
   ],
   "source": [
    "print(stu1.keys() & stu2.keys() & stu3.keys())"
   ]
  },
  {
   "cell_type": "markdown",
   "metadata": {},
   "source": [
    "##### （3）stu3的大学英文课程进行了补考，更新stu3的大学英语的成绩为60，之后计算该学生的平均分（15分）"
   ]
  },
  {
   "cell_type": "code",
   "execution_count": 7,
   "metadata": {},
   "outputs": [
    {
     "name": "stdout",
     "output_type": "stream",
     "text": [
      "71.0\n"
     ]
    }
   ],
   "source": [
    "stu3['大学英语'] = 60\n",
    "print(sum(stu3.values()) / len(stu3))"
   ]
  },
  {
   "cell_type": "markdown",
   "metadata": {},
   "source": [
    "#### 4.已知列表stus=[\n",
    "#### {\"NO\":\"2019201\",\"数学\":98,\"语文\":99},\n",
    "####       {\"NO\":\"2019202\",\"数学\":97,\"语文\":90},\n",
    "####       {\"NO\":\"2019203\",\"数学\":44,\"语文\":33},\n",
    "####       {\"NO\":\"2019204\",\"数学\":44,\"语文\":60},...]\n",
    "#### 存放着某班所有学生的学号、数学课成绩和语文课成绩。请编程完成下列要求："
   ]
  },
  {
   "cell_type": "markdown",
   "metadata": {},
   "source": [
    "##### （1）分别求这个班数学和语文的平均分并输出。"
   ]
  },
  {
   "cell_type": "code",
   "execution_count": 8,
   "metadata": {},
   "outputs": [
    {
     "name": "stdout",
     "output_type": "stream",
     "text": [
      "70.5\n",
      "70.75\n"
     ]
    }
   ],
   "source": [
    "stus = [\n",
    "    {\"NO\": \"2019201\", \"数学\": 98, \"语文\": 99},\n",
    "    {\"NO\": \"2019202\", \"数学\": 97, \"语文\": 90},\n",
    "    {\"NO\": \"2019203\", \"数学\": 44, \"语文\": 33},\n",
    "    {\"NO\": \"2019204\", \"数学\": 44, \"语文\": 60}]\n",
    "\n",
    "\n",
    "chineseGrade = 0\n",
    "mathGrade = 0\n",
    "for i in stus:\n",
    "    chineseGrade += i['语文']\n",
    "    mathGrade += i['数学']\n",
    "print(chineseGrade / 4)\n",
    "print(mathGrade / 4)"
   ]
  },
  {
   "cell_type": "markdown",
   "metadata": {},
   "source": [
    "##### （2）找出两门课都不及格（<60）的学生，输出他们的学号和各科成绩。"
   ]
  },
  {
   "cell_type": "code",
   "execution_count": 10,
   "metadata": {},
   "outputs": [
    {
     "name": "stdout",
     "output_type": "stream",
     "text": [
      "学号：2019203,语文:33,数学:44\n"
     ]
    }
   ],
   "source": [
    "for i in stus:\n",
    "    if i['数学'] < 60 and i['语文'] < 60:\n",
    "        print('学号：' + i['NO'] + \",语文:\" + str(i['语文']) + \",数学:\" + str(i['数学']))"
   ]
  },
  {
   "cell_type": "markdown",
   "metadata": {},
   "source": [
    "##### （3）找出两门课的平均分在90分以上的学生，输出他们的学号和各科成绩。\n",
    "##### 建议用三个函数分别实现以上要求。"
   ]
  },
  {
   "cell_type": "code",
   "execution_count": 12,
   "metadata": {},
   "outputs": [
    {
     "name": "stdout",
     "output_type": "stream",
     "text": [
      "学号：2019201,语文:99,数学:98\n",
      "学号：2019202,语文:90,数学:97\n"
     ]
    }
   ],
   "source": [
    "for i in stus:\n",
    "    if i['数学'] + i['语文'] > 180:\n",
    "        print('学号：' + i['NO'] + \",语文:\" + str(i['语文']) + \",数学:\" + str(i['数学']))"
   ]
  }
 ],
 "metadata": {
  "kernelspec": {
   "display_name": "Python 3",
   "language": "python",
   "name": "python3"
  },
  "language_info": {
   "codemirror_mode": {
    "name": "ipython",
    "version": 3
   },
   "file_extension": ".py",
   "mimetype": "text/x-python",
   "name": "python",
   "nbconvert_exporter": "python",
   "pygments_lexer": "ipython3",
   "version": "3.7.4"
  }
 },
 "nbformat": 4,
 "nbformat_minor": 4
}
