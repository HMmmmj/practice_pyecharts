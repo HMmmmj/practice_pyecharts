{
 "cells": [
  {
   "cell_type": "markdown",
   "metadata": {},
   "source": [
    "# 1．打印出所有的\"水仙花数\"，所谓\"水仙花数\"是指一个三位数，其各位数字立方和等于该数本身。例如：153是一个\"水仙花数\"，因为153=1的三次方＋5的三次方＋3的三次方。"
   ]
  },
  {
   "cell_type": "code",
   "execution_count": 1,
   "metadata": {},
   "outputs": [
    {
     "name": "stdout",
     "output_type": "stream",
     "text": [
      "153\n",
      "370\n",
      "371\n",
      "407\n"
     ]
    }
   ],
   "source": [
    "for i in range(100,1000):\n",
    "    a = i//100\n",
    "    b = (i-a*100)//10\n",
    "    c = (i-a*100-b*10)\n",
    "    if i == a**3+b**3+c**3:\n",
    "        print(i)"
   ]
  },
  {
   "cell_type": "markdown",
   "metadata": {},
   "source": [
    "# 2. “回文”是指正读反读都能读通的句子，它是古今中外都有的一种修辞方式和文字游戏，如“我为人人，人人为我”等。在数学中也有这样一类数字有这样的特征，称为回文数（palindrome number），例如10001,9889等，设计一个函数f用于检查输入的数字是否为回文数，返回布尔类型"
   ]
  },
  {
   "cell_type": "code",
   "execution_count": 6,
   "metadata": {},
   "outputs": [
    {
     "name": "stdout",
     "output_type": "stream",
     "text": [
      "True\n",
      "False\n"
     ]
    }
   ],
   "source": [
    "def f(x):\n",
    "    x=str(x)\n",
    "    y=x[::-1]\n",
    "    if(x==y):\n",
    "        return True\n",
    "    else:\n",
    "        return False \n",
    "print(f(1221))\n",
    "print(f(1008))"
   ]
  },
  {
   "cell_type": "markdown",
   "metadata": {},
   "source": [
    "# 3. 有三个学生stu1,stu2,stu3如下所示：\n",
    "# stu1 = {\"大学英语\":98,\"色彩学基础\":99,\"普通话\":70}\n",
    "# stu2 = {\"大学英语\":97,\"音乐鉴赏\":90,\"会计基础\":89}\n",
    "# stu3 = {\"大学英语\":44,\"普通话\":63,\"网店运营\":90}\n",
    "# 请编程完成下列要求：\n",
    "# （1）全校（假设仅3个学生）总共开了多少门课程\n",
    "# （2）找出三个学生都选的课程\n",
    "# （3）stu3的大学英文课程进行了补考，更新stu3的大学英语的成绩为60，之后计算该学生的平均分（15分）"
   ]
  },
  {
   "cell_type": "code",
   "execution_count": 20,
   "metadata": {},
   "outputs": [
    {
     "name": "stdout",
     "output_type": "stream",
     "text": [
      "6\n",
      "{'大学英语'}\n",
      "71.0\n"
     ]
    }
   ],
   "source": [
    "stu1 =set({\"大学英语\":98,\"色彩学基础\":99,\"普通话\":70})\n",
    "stu2 =set({\"大学英语\":97,\"音乐鉴赏\":90,\"会计基础\":89})\n",
    "stu3 =set({\"大学英语\":44,\"普通话\":63,\"网店运营\":90})\n",
    "print(len(stu1|stu2|stu3))         #（1）求并集，找出全校总共开了多少门课程\n",
    "print(stu1&stu2&stu3)              #（2）求交集，找出三个学生都选的课程\n",
    "newstu3={\"大学英语\":60,\"普通话\":63,\"网店运营\":90}      #更新stu3英语成绩\n",
    "print((newstu3[\"大学英语\"]+newstu3[\"普通话\"]+newstu3[\"网店运营\"])/3)   #（3）计算stu3平均分"
   ]
  },
  {
   "cell_type": "markdown",
   "metadata": {},
   "source": [
    "# 4.已知列表\n",
    "# stus=[\n",
    "# {\"NO\":\"2019201\",\"数学\":98,\"语文\":99},\n",
    "#       {\"NO\":\"2019202\",\"数学\":97,\"语文\":90},\n",
    "#       {\"NO\":\"2019203\",\"数学\":44,\"语文\":33},\n",
    "#       {\"NO\":\"2019204\",\"数学\":44,\"语文\":60},...]\n",
    "# 存放着某班所有学生的学号、数学课成绩和语文课成绩。请编程完成下列要求：\n",
    "# （1）分别求这个班数学和语文的平均分并输出。\n",
    "# （2）找出两门课都不及格（<60）的学生，输出他们的学号和各科成绩。\n",
    "# （3）找出两门课的平均分在90分以上的学生，输出他们的学号和各科成绩。\n",
    "# 建议用三个函数分别实现以上要求。"
   ]
  },
  {
   "cell_type": "code",
   "execution_count": 6,
   "metadata": {},
   "outputs": [
    {
     "name": "stdout",
     "output_type": "stream",
     "text": [
      "两门平均分在90以上的学生 {'NO': '2019201', '数学': 98, '语文': 99}\n",
      "两门平均分在90以上的学生 {'NO': '2019202', '数学': 97, '语文': 90}\n",
      "两门都不及格的学生 {'NO': '2019203', '数学': 44, '语文': 33} /n\n",
      "数学平均分: 70.75\n",
      "语文平均分: 70.5\n"
     ]
    }
   ],
   "source": [
    "a=0\n",
    "b=0\n",
    "stus=[\n",
    "{\"NO\":\"2019201\",\"数学\":98,\"语文\":99},\n",
    "{\"NO\":\"2019202\",\"数学\":97,\"语文\":90},\n",
    "{\"NO\":\"2019203\",\"数学\":44,\"语文\":33},\n",
    "{\"NO\":\"2019204\",\"数学\":44,\"语文\":60},]\n",
    "for i in stus:\n",
    "    for j in i:\n",
    "        if j==\"数学\":\n",
    "            a=a+i[j]\n",
    "    for k in i:\n",
    "        if k==\"语文\":\n",
    "            b=b+i[k]   \n",
    "    if i[j]<60 and i[k]<60:\n",
    "        print(\"两门都不及格的学生\",i,\"/n\")                    #两门都不及格的学生\n",
    "    if ((i[j]+ i[k])/2)>=90:\n",
    "        print(\"两门平均分在90以上的学生\",i)               #两门平均分在90以上的学生\n",
    "print(\"数学平均分:\",a/4)                     #数学平均分\n",
    "print(\"语文平均分:\",b/4)                     #语文平均分"
   ]
  },
  {
   "cell_type": "code",
   "execution_count": null,
   "metadata": {},
   "outputs": [],
   "source": []
  }
 ],
 "metadata": {
  "kernelspec": {
   "display_name": "Python 3",
   "language": "python",
   "name": "python3"
  },
  "language_info": {
   "codemirror_mode": {
    "name": "ipython",
    "version": 3
   },
   "file_extension": ".py",
   "mimetype": "text/x-python",
   "name": "python",
   "nbconvert_exporter": "python",
   "pygments_lexer": "ipython3",
   "version": "3.7.0"
  }
 },
 "nbformat": 4,
 "nbformat_minor": 2
}
