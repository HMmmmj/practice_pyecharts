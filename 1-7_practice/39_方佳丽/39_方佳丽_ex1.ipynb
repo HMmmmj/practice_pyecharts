{
 "cells": [
  {
   "cell_type": "markdown",
   "metadata": {},
   "source": [
    "# 1.输入矩形的长与宽，计算矩形面积."
   ]
  },
  {
   "cell_type": "code",
   "execution_count": 5,
   "metadata": {},
   "outputs": [
    {
     "name": "stdout",
     "output_type": "stream",
     "text": [
      "35\n",
      "8712\n"
     ]
    }
   ],
   "source": [
    "  def area(length,width):\n",
    "    return length * width\n",
    "print(area(5,7))\n",
    "print(area(99,88))"
   ]
  },
  {
   "cell_type": "markdown",
   "metadata": {},
   "source": [
    "# 2.输入一个时间值s，它是距当日午夜的秒值，计算目前的时间，时间按HH:MM:SS格式输出。"
   ]
  },
  {
   "cell_type": "code",
   "execution_count": 6,
   "metadata": {},
   "outputs": [
    {
     "name": "stdout",
     "output_type": "stream",
     "text": [
      "Time: 23:13:20\n",
      "None\n"
     ]
    }
   ],
   "source": [
    "def f(s):\n",
    "    m=86400\n",
    "    a=(m-s)//3600\n",
    "    b=((m-s)%3600)//60\n",
    "    c=((m-s)%3600)%60\n",
    "    print(\"Time: %02d:%02d:%02d\"%(a,b,c))\n",
    "    return\n",
    "print(f(2800))"
   ]
  },
  {
   "cell_type": "markdown",
   "metadata": {},
   "source": [
    "# 3.如a=1、b=2、c=3、d=0 写出下列的逻辑值:\n",
    "#（1）a>b and b>c or a+b<c\n",
    "#（2）a-b < c or b>c and not c\n",
    "#（3）not d or b>c+a or a\n",
    "#（4）d and b and c>d and a*b>c\n",
    "#（5）not（a>b and c>d）\n",
    "#（6）a*b>c or b+c>d and not d\n",
    "#（7）c+d<=b+d and d<c or 2*b>c\n",
    "#（8）d < b or c>a+b+d and b<c+a"
   ]
  },
  {
   "cell_type": "code",
   "execution_count": 18,
   "metadata": {},
   "outputs": [
    {
     "name": "stdout",
     "output_type": "stream",
     "text": [
      "False\n",
      "True\n",
      "True\n",
      "0\n",
      "True\n",
      "True\n",
      "True\n",
      "True\n"
     ]
    }
   ],
   "source": [
    "a=1\n",
    "b=2\n",
    "c=3\n",
    "d=0\n",
    "print(a>b and b>c or a+b<c)\n",
    "print(a-b < c or b>c and not c)\n",
    "print(not d or b>c+a or a)\n",
    "print(d and b and c>d and a*b>c)\n",
    "print(not a>b and c>d)\n",
    "print(a*b>c or b+c>d and not d)\n",
    "print(c+d<=b+d and d<c or 2*b>c)\n",
    "print(d < b or c>a+b+d and b<c+a)"
   ]
  },
  {
   "cell_type": "markdown",
   "metadata": {},
   "source": [
    "# 4.有一个数x在区间[-5，0]内，写出其条件表达式。"
   ]
  },
  {
   "cell_type": "code",
   "execution_count": 20,
   "metadata": {},
   "outputs": [
    {
     "name": "stdout",
     "output_type": "stream",
     "text": [
      "True\n",
      "None\n"
     ]
    }
   ],
   "source": [
    "def f(x):\n",
    "    if x>=-5 and x<=0:\n",
    "        print(\"True\")\n",
    "    else:\n",
    "        print(\"Flase\")\n",
    "        Return\n",
    "print(f(0))  "
   ]
  },
  {
   "cell_type": "markdown",
   "metadata": {},
   "source": [
    "# 5.写出下面表达式的值（设a=1，b=2，c=3，x=4，y=3）\n",
    "#（1）a+b>c and b==c\n",
    "#（2）not a<b and b!=c or x+y<=3\n",
    "#（3）a+（b>=x+y）and c-a and y-x\n",
    "#（4）not (x==a) and (y==b) and 0\n",
    "#（5）not (a+b)+c-1 and b+c/2\n",
    "#（6）a or 1+'a' and b and 'c'"
   ]
  },
  {
   "cell_type": "code",
   "execution_count": 32,
   "metadata": {},
   "outputs": [
    {
     "name": "stdout",
     "output_type": "stream",
     "text": [
      "False\n",
      "False\n",
      "-1\n",
      "False\n",
      "False\n",
      "1\n"
     ]
    }
   ],
   "source": [
    "a=1\n",
    "b=2\n",
    "c=3\n",
    "x=4\n",
    "y=3\n",
    "print(a+b>c and b==c)\n",
    "print(not a<b and b!=c or x+y<=3)\n",
    "print(a+(b>=x+y) and c-a and y-x)\n",
    "print(not (x==a) and (y==b) and 0)\n",
    "print(not (a+b)+c-1 and b+c/2)\n",
    "print(a or 1+'a' and b and 'c')"
   ]
  }
 ],
 "metadata": {
  "kernelspec": {
   "display_name": "Python 3",
   "language": "python",
   "name": "python3"
  },
  "language_info": {
   "codemirror_mode": {
    "name": "ipython",
    "version": 3
   },
   "file_extension": ".py",
   "mimetype": "text/x-python",
   "name": "python",
   "nbconvert_exporter": "python",
   "pygments_lexer": "ipython3",
   "version": "3.7.1"
  }
 },
 "nbformat": 4,
 "nbformat_minor": 2
}
