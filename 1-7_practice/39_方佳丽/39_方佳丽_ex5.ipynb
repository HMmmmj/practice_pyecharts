{
 "cells": [
  {
   "cell_type": "markdown",
   "metadata": {},
   "source": [
    "# 1.定义一个数学中的复数类Complex，它有一个构造函数与一个显示函数，建立一个Complex 对象并调用该显示函数显示。"
   ]
  },
  {
   "cell_type": "code",
   "execution_count": 33,
   "metadata": {},
   "outputs": [
    {
     "name": "stdout",
     "output_type": "stream",
     "text": [
      "1 2\n"
     ]
    }
   ],
   "source": [
    "class Complex:\n",
    "    def __init__(self,x,y):\n",
    "        self.x=x\n",
    "        self.y=y\n",
    "    def show(self):\n",
    "        print(self.x,self.y)\n",
    "        \n",
    "a=Complex(1,2)\n",
    "a.show()"
   ]
  },
  {
   "cell_type": "markdown",
   "metadata": {},
   "source": [
    "# 2.定义一个计算机类MyComputer，它包含CPU类型(String 类型)、RAM内存大小（Integer 类型）、HD 硬盘大小(Integer 类型），设计它的构造函数，并设计一个显示函数，建立一个MyComputer对象并调用该显示函数显示。"
   ]
  },
  {
   "cell_type": "code",
   "execution_count": 34,
   "metadata": {},
   "outputs": [
    {
     "name": "stdout",
     "output_type": "stream",
     "text": [
      "cpu-8 8 200\n"
     ]
    }
   ],
   "source": [
    "class MyComputer:\n",
    "    def __init__(self,CPU,RAM,HD):\n",
    "        self.CPU=CPU\n",
    "        self.RAM=RAM\n",
    "        self.HD=HD\n",
    "    def show(self):\n",
    "        print(self.CPU,self.RAM,self.HD)\n",
    "\n",
    "b=MyComputer(\"cpu-8\",8,200)\n",
    "b.show()        "
   ]
  },
  {
   "cell_type": "markdown",
   "metadata": {},
   "source": [
    "# 3.设计一个整数类MyInteger，它有一个整数变量，并有一个Value属性，可以通过为Value存取该变量的值，还有一个转二进制字符串的成员函数toBin及转十六进制字符串的成员函数 toHex。"
   ]
  },
  {
   "cell_type": "code",
   "execution_count": 35,
   "metadata": {},
   "outputs": [
    {
     "name": "stdout",
     "output_type": "stream",
     "text": [
      "8\n",
      "0b1000\n",
      "0x8\n"
     ]
    }
   ],
   "source": [
    "class MyInteger:\n",
    "    def __init__(self,x):\n",
    "        self.Value=x\n",
    "    def show(self):\n",
    "        print(self.Value)\n",
    "    def toBin(self):\n",
    "        return(bin(self.Value))\n",
    "    def toHex(self):\n",
    "        return(hex(self.Value))\n",
    "        \n",
    "c=MyInteger(8)\n",
    "c.show()\n",
    "print(c.toBin())\n",
    "print(c.toHex())"
   ]
  },
  {
   "cell_type": "markdown",
   "metadata": {},
   "source": [
    "# 4.建立一个普通人员类Person，包含姓名（m_name）、性别（m_sex）、年龄（m_age）成员变量。"
   ]
  },
  {
   "cell_type": "markdown",
   "metadata": {},
   "source": [
    "## （1）建立Person 类，包含Private 成员m_name、m_sex、m_age成员变量；"
   ]
  },
  {
   "cell_type": "code",
   "execution_count": 46,
   "metadata": {},
   "outputs": [],
   "source": [
    "class Person:\n",
    "    def __init__(self,m_name,m_sex,m_age):\n",
    "        self.m_name=m_name\n",
    "        self.m_sex=m_sex\n",
    "        self.m_age=m_age\n",
    "    def show(self):\n",
    "        print(self.m_name,self.m_sex,self.m_age)"
   ]
  },
  {
   "cell_type": "markdown",
   "metadata": {},
   "source": [
    "## （2）建立Person 的构造函数；"
   ]
  },
  {
   "cell_type": "code",
   "execution_count": 47,
   "metadata": {},
   "outputs": [
    {
     "name": "stdout",
     "output_type": "stream",
     "text": [
      "xxx 男 20\n"
     ]
    }
   ],
   "source": [
    "class Person:\n",
    "    def __init__(self,m_name,m_sex,m_age):\n",
    "        self.m_name=m_name\n",
    "        self.m_sex=m_sex\n",
    "        self.m_age=m_age\n",
    "    def show(self):\n",
    "        print(self.m_name,self.m_sex,self.m_age)\n",
    "        \n",
    "d=Person(\"xxx\",\"男\",20)\n",
    "d.show()"
   ]
  },
  {
   "cell_type": "markdown",
   "metadata": {},
   "source": [
    "## （3）建立一个显示过程Show()，显示该对象的数据；"
   ]
  },
  {
   "cell_type": "code",
   "execution_count": 29,
   "metadata": {},
   "outputs": [
    {
     "name": "stdout",
     "output_type": "stream",
     "text": [
      "xxx 男 20\n"
     ]
    }
   ],
   "source": [
    " class Person:\n",
    "    def __init__(self,m_name,m_sex,m_age):\n",
    "        self.m_name=m_name\n",
    "        self.m_sex=m_sex\n",
    "        self.m_age=m_age\n",
    "    def show(self):\n",
    "        print(self.m_name,self.m_sex,self.m_age)\n",
    "        \n",
    "d=Person(\"xxx\",\"男\",20)\n",
    "d.show()"
   ]
  },
  {
   "cell_type": "markdown",
   "metadata": {},
   "source": [
    "## （4）派生一个学生类 Student，增加班级(m_class)，专业（m_major），设计这些类的构造函数；"
   ]
  },
  {
   "cell_type": "code",
   "execution_count": 1,
   "metadata": {},
   "outputs": [
    {
     "name": "stdout",
     "output_type": "stream",
     "text": [
      "zzz 男 20\n",
      "class-A computer\n"
     ]
    }
   ],
   "source": [
    "class Person:\n",
    "    def __init__(self,m_name,m_sex,m_age):\n",
    "        self.m_name=m_name\n",
    "        self.m_sex=m_sex\n",
    "        self.m_age=m_age\n",
    "    def show(self,end=\"\"):\n",
    "        print(self.m_name,self.m_sex,self.m_age)\n",
    "class Student(Person):\n",
    "    def __init__(self,m_name,m_sex,m_age,m_class,m_major):\n",
    "        Person.__init__(self,m_name,m_sex,m_age)\n",
    "        self.m_class=m_class\n",
    "        self.m_major=m_major\n",
    "    def show(self):\n",
    "        Person.show(self)\n",
    "        print(self.m_class,self.m_major)\n",
    "\n",
    "e=Student(\"zzz\",\"男\",20,\"class-A\" ,\"computer\")\n",
    "e.show()"
   ]
  },
  {
   "cell_type": "markdown",
   "metadata": {},
   "source": [
    "## （5）建立m_class、m_major对应的属性函数sClass()、sMajor();"
   ]
  },
  {
   "cell_type": "code",
   "execution_count": 6,
   "metadata": {},
   "outputs": [],
   "source": [
    "def sClass(self):\n",
    "    return self.m_class\n",
    "def sMajor(self):\n",
    "    return self.m_major"
   ]
  },
  {
   "cell_type": "markdown",
   "metadata": {},
   "source": [
    "## （6）建立显示成员函数Show()，显示该学生对象所有成员数据；"
   ]
  },
  {
   "cell_type": "code",
   "execution_count": 7,
   "metadata": {},
   "outputs": [],
   "source": [
    " def show(self):\n",
    "        Person.show(self,'')\n",
    "        print(self.m_class,self.m_major)"
   ]
  },
  {
   "cell_type": "markdown",
   "metadata": {},
   "source": [
    "# 5.建立一个时间类Time，它包含时hour,分minute，秒second的实例属性"
   ]
  },
  {
   "cell_type": "markdown",
   "metadata": {},
   "source": [
    "## （1）设计时间显示函数 show(self）;"
   ]
  },
  {
   "cell_type": "code",
   "execution_count": 9,
   "metadata": {},
   "outputs": [
    {
     "name": "stdout",
     "output_type": "stream",
     "text": [
      "22:16:56\n"
     ]
    }
   ],
   "source": [
    "class Time:\n",
    "    def __init__(self,h,m,s):\n",
    "        self.hour=h\n",
    "        self.minute=m\n",
    "        self.second=s\n",
    "    def show(self):\n",
    "        print(\"%02d:%02d:%02d\" %(self.hour,self.minute,self.second))\n",
    "        \n",
    "f=Time(22,16,56)\n",
    "f.show()"
   ]
  },
  {
   "cell_type": "markdown",
   "metadata": {},
   "source": [
    "## （2）设计两个时间大小比较函数compare(self，t），其中t是另外一个时间；"
   ]
  },
  {
   "cell_type": "code",
   "execution_count": null,
   "metadata": {},
   "outputs": [],
   "source": []
  }
 ],
 "metadata": {
  "kernelspec": {
   "display_name": "Python 3",
   "language": "python",
   "name": "python3"
  },
  "language_info": {
   "codemirror_mode": {
    "name": "ipython",
    "version": 3
   },
   "file_extension": ".py",
   "mimetype": "text/x-python",
   "name": "python",
   "nbconvert_exporter": "python",
   "pygments_lexer": "ipython3",
   "version": "3.7.1"
  }
 },
 "nbformat": 4,
 "nbformat_minor": 2
}
