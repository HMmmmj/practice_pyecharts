{
 "cells": [
  {
   "cell_type": "markdown",
   "metadata": {},
   "source": [
    "# 1.输入 a、b、c三个参数，求解ax2+bx+c=0的两个根，假定b2-4ac>0。"
   ]
  },
  {
   "cell_type": "code",
   "execution_count": 11,
   "metadata": {},
   "outputs": [
    {
     "name": "stdout",
     "output_type": "stream",
     "text": [
      "(-4.0, -14.0)\n"
     ]
    }
   ],
   "source": [
    "import math\n",
    "def f(a,b,c):\n",
    "    m=b*b-4*a*c\n",
    "    if a==0:\n",
    "        return \"error\"\n",
    "    if m<0:\n",
    "        return \"error\"\n",
    "    x1=(-b+math.sqrt(m))/2*a\n",
    "    x2=(-b-math.sqrt(m))/2*a\n",
    "    return (x1,x2)\n",
    "\n",
    "print(f(2,9,7))"
   ]
  },
  {
   "cell_type": "markdown",
   "metadata": {},
   "source": [
    "# 2.输入a、b、c三个参数，以它们作为三角形的三边，判断是否可以构成一个三角形，如能则进一步计算其面积。三角形的面积s可以用以下公式计算:s=sqrt(p*(p-a)*(p-b)*(p-c)),其中p=(a+b+c)/2。"
   ]
  },
  {
   "cell_type": "code",
   "execution_count": 12,
   "metadata": {},
   "outputs": [
    {
     "name": "stdout",
     "output_type": "stream",
     "text": [
      "可以构成一个三角形，面积为 6.0\n"
     ]
    }
   ],
   "source": [
    "import math\n",
    "def f(a,b,c):\n",
    "    float(a)\n",
    "    float(b)\n",
    "    float(c)\n",
    "    p=(a+b+c)/2\n",
    "    s=math.sqrt(p*(p-a)*(p-b)*(p-c))\n",
    "    if (a+b>c) or (a+c>b) or (b+c>a):\n",
    "        print(\"可以构成一个三角形，面积为\",s)\n",
    "    else:\n",
    "        print(\"不可以构成一个三角形\")\n",
    "\n",
    "f(3,4,5)"
   ]
  },
  {
   "cell_type": "markdown",
   "metadata": {},
   "source": [
    "# 3.输入一个字母，判断它是否为小写英文字母。"
   ]
  },
  {
   "cell_type": "code",
   "execution_count": 13,
   "metadata": {},
   "outputs": [
    {
     "name": "stdin",
     "output_type": "stream",
     "text": [
      "请输入一个字母: f\n"
     ]
    },
    {
     "name": "stdout",
     "output_type": "stream",
     "text": [
      "是小写英文字母\n"
     ]
    }
   ],
   "source": [
    "x=input(\"请输入一个字母:\")\n",
    "if x>=\"a\" and x<=\"z\":\n",
    "    print(\"是小写英文字母\")\n",
    "else:\n",
    "    print(\"不是小写英文字母\")"
   ]
  },
  {
   "cell_type": "markdown",
   "metadata": {},
   "source": [
    "# 4.从键盘输入5个字符，统计’0’字符出现的次数。"
   ]
  },
  {
   "cell_type": "code",
   "execution_count": 15,
   "metadata": {},
   "outputs": [
    {
     "name": "stdin",
     "output_type": "stream",
     "text": [
      "请输入5个字符 f00zk\n"
     ]
    },
    {
     "name": "stdout",
     "output_type": "stream",
     "text": [
      "{'0': 2}\n"
     ]
    }
   ],
   "source": [
    "str=input(\"请输入5个字符\")\n",
    "str1=str.lower()\n",
    "str2={}\n",
    "for i in str1:\n",
    "    str2[\"0\"]=str1.count(\"0\")\n",
    "print(str2)"
   ]
  },
  {
   "cell_type": "markdown",
   "metadata": {},
   "source": [
    "# 5.输入两个整数，判断哪个大并输出结果。"
   ]
  },
  {
   "cell_type": "code",
   "execution_count": 16,
   "metadata": {},
   "outputs": [
    {
     "name": "stdin",
     "output_type": "stream",
     "text": [
      "a= 6\n",
      "b= 8\n"
     ]
    },
    {
     "name": "stdout",
     "output_type": "stream",
     "text": [
      "8\n"
     ]
    }
   ],
   "source": [
    "a=input(\"a=\")\n",
    "b=input(\"b=\")\n",
    "a=int(a)\n",
    "b=int(b)\n",
    "if a>b:\n",
    "    c=a\n",
    "else:\n",
    "    c=b\n",
    "print(c)"
   ]
  },
  {
   "cell_type": "markdown",
   "metadata": {},
   "source": [
    "# 6.输入一个字母，如它是一个小写英文字母，则把它变为对应大写字母输出。"
   ]
  },
  {
   "cell_type": "code",
   "execution_count": 17,
   "metadata": {},
   "outputs": [
    {
     "name": "stdin",
     "output_type": "stream",
     "text": [
      "请输入一个字母 d\n"
     ]
    },
    {
     "name": "stdout",
     "output_type": "stream",
     "text": [
      "D\n"
     ]
    }
   ],
   "source": [
    "ch=input(\"请输入一个字母\")\n",
    "if ch>=\"a\" and ch<=\"z\":\n",
    "    print(ch.upper())\n",
    "else:\n",
    "    print(\"不是小写字母\")"
   ]
  },
  {
   "cell_type": "markdown",
   "metadata": {},
   "source": [
    "# 7.输入一个年份，判断它是否为闰年。"
   ]
  },
  {
   "cell_type": "code",
   "execution_count": 18,
   "metadata": {},
   "outputs": [
    {
     "name": "stdin",
     "output_type": "stream",
     "text": [
      "请输入一个年份 2020\n"
     ]
    },
    {
     "name": "stdout",
     "output_type": "stream",
     "text": [
      "闰年\n"
     ]
    }
   ],
   "source": [
    "x=input(\"请输入一个年份\")\n",
    "x=int(x)\n",
    "if (x%400==0) or ((x%4==0) and (x%100!=0)):\n",
    "    print(\"闰年\")\n",
    "else:\n",
    "    print(\"不是闰年\")"
   ]
  },
  {
   "cell_type": "markdown",
   "metadata": {},
   "source": [
    "# 8.从键盘输入a、b两个数，按大小顺序输出它们。"
   ]
  },
  {
   "cell_type": "code",
   "execution_count": 19,
   "metadata": {},
   "outputs": [
    {
     "name": "stdin",
     "output_type": "stream",
     "text": [
      "a= 7\n",
      "b= 5\n"
     ]
    },
    {
     "name": "stdout",
     "output_type": "stream",
     "text": [
      "7 5\n"
     ]
    }
   ],
   "source": [
    "a=input(\"a=\")\n",
    "b=input(\"b=\")\n",
    "if a>b:\n",
    "    print(a,b)\n",
    "else:\n",
    "    print(b,a)"
   ]
  },
  {
   "cell_type": "markdown",
   "metadata": {},
   "source": [
    "# 9.输入a、b、c三个整数，找出最小的数。"
   ]
  },
  {
   "cell_type": "code",
   "execution_count": 20,
   "metadata": {},
   "outputs": [
    {
     "name": "stdin",
     "output_type": "stream",
     "text": [
      "a= 4\n",
      "b= 9\n",
      "c= 6\n"
     ]
    },
    {
     "name": "stdout",
     "output_type": "stream",
     "text": [
      "4\n"
     ]
    }
   ],
   "source": [
    "  a=input(\"a=\")\n",
    "b=input(\"b=\")\n",
    "c=input(\"c=\")\n",
    "a=int(a)\n",
    "b=int(b)\n",
    "c=int(c)\n",
    "min=min(a,b,c)\n",
    "print(min)"
   ]
  },
  {
   "cell_type": "markdown",
   "metadata": {},
   "source": [
    "# 10.某企业发放的奖金根据利润提成。利润低于或等于10万元时，奖金可提12%；利汇高于10万元，低于20万元时，高于10万元的部分，可提成8.5%；20万到40万之间时，高于20万元的部分，可提成6%；40万到60万之间时高于40万元的部分，可提成4%；60万到100万之间时，高于60万元的部分，可提成2.5%，高于100万元时，超过100万元的部分按1%提成，从键盘输入当月利润，求应发放奖金总数？"
   ]
  },
  {
   "cell_type": "code",
   "execution_count": 21,
   "metadata": {},
   "outputs": [
    {
     "name": "stdin",
     "output_type": "stream",
     "text": [
      "请输入当月利润 650000\n"
     ]
    },
    {
     "name": "stdout",
     "output_type": "stream",
     "text": [
      "41750.0\n"
     ]
    }
   ],
   "source": [
    "x=input(\"请输入当月利润\")\n",
    "x=float(x)\n",
    "if x>1000000:\n",
    "    s=100000*0.12+100000*0.085+200000*0.06+200000*0.04+400000*0.025+(x-1000000)*0.01\n",
    "elif x>=600000:\n",
    "    s=100000*0.12+100000*0.085+200000*0.06+200000*0.04+(x-600000)*0.025\n",
    "elif x>=400000:\n",
    "    s=100000*0.12+100000*0.085+200000*0.06+(x-400000)*0.04\n",
    "elif x>=200000:\n",
    "    s=100000*0.12+100000*0.085+(x-200000)*0.06\n",
    "elif x>=100000:\n",
    "    s=100000*0.12+(x-100000)*0.085\n",
    "else:\n",
    "    s=x*0.12\n",
    "print(s)"
   ]
  },
  {
   "cell_type": "markdown",
   "metadata": {},
   "source": [
    "# 11.平面上有四个圆，圆心分别为（2，2），（-2，2），（-2，-2），(2，-2），圆半径为1。今输入任一点的坐标，判断该点是否在这四个圆中，如在则给出是在哪一个圆中。"
   ]
  },
  {
   "cell_type": "code",
   "execution_count": 23,
   "metadata": {},
   "outputs": [],
   "source": [
    "def f(x,y):\n",
    "    if (((x-2)*(x-2)+(y-2)*(y-2))<1) or (((x-(-2))*(x-(-2))+(y-2)*(y-2))<1) or (((x-(-2))*(x-(-2))+(y-(-2))*(y-(-2)))<1) or (((x-2)*(x-2)+(y-(-2))*(y-(-2)))<1):\n",
    "        print(\"是在圆中\")\n",
    "    else:\n",
    "        print(\"不在圆中\") \n",
    "        \n",
    "print(f(3))"
   ]
  },
  {
   "cell_type": "code",
   "execution_count": null,
   "metadata": {},
   "outputs": [],
   "source": []
  }
 ],
 "metadata": {
  "kernelspec": {
   "display_name": "Python 3",
   "language": "python",
   "name": "python3"
  },
  "language_info": {
   "codemirror_mode": {
    "name": "ipython",
    "version": 3
   },
   "file_extension": ".py",
   "mimetype": "text/x-python",
   "name": "python",
   "nbconvert_exporter": "python",
   "pygments_lexer": "ipython3",
   "version": "3.7.1"
  }
 },
 "nbformat": 4,
 "nbformat_minor": 2
}
