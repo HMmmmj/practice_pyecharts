{
 "cells": [
  {
   "cell_type": "markdown",
   "metadata": {},
   "source": [
    "# 1.能直接修改字符串的某个字符吗？例如s=\"abc\"，s[0]=“1”可以吗？"
   ]
  },
  {
   "cell_type": "code",
   "execution_count": null,
   "metadata": {},
   "outputs": [],
   "source": [
    "不可以直接修改"
   ]
  },
  {
   "cell_type": "markdown",
   "metadata": {},
   "source": [
    "# 2.输入一个字符串，输出它所包含的所有数字，例如输入“23me3e”，输出“233”。"
   ]
  },
  {
   "cell_type": "code",
   "execution_count": 5,
   "metadata": {},
   "outputs": [
    {
     "name": "stdin",
     "output_type": "stream",
     "text": [
      "请输入一个字符串 23me3e\n"
     ]
    },
    {
     "name": "stdout",
     "output_type": "stream",
     "text": [
      "233"
     ]
    }
   ],
   "source": [
    "s=input(\"请输入一个字符串\")\n",
    "for i in range(len(s)):\n",
    "    if s[i]>=\"0\" and s[i]<=\"9\":\n",
    "        print(s[i],end=\"\")"
   ]
  },
  {
   "cell_type": "markdown",
   "metadata": {},
   "source": [
    "# 3.设计一个字符串函数reverse(s)，它返回字符串的反串，例如reverse(abc）返回“cba”。"
   ]
  },
  {
   "cell_type": "code",
   "execution_count": 6,
   "metadata": {},
   "outputs": [
    {
     "name": "stdout",
     "output_type": "stream",
     "text": [
      "cba\n"
     ]
    }
   ],
   "source": [
    "def reverse(s):\n",
    "    t=\"\"\n",
    "    for i in range(len(s)-1,-1,-1):\n",
    "        t=t+s[i]\n",
    "    return t  \n",
    "\n",
    "print(reverse(\"abc\"))"
   ]
  },
  {
   "cell_type": "markdown",
   "metadata": {},
   "source": [
    "# 4.元祖与列表有什么不同？"
   ]
  },
  {
   "cell_type": "code",
   "execution_count": null,
   "metadata": {},
   "outputs": [],
   "source": [
    "元祖的声明使用小括号，二列表使用方括号；元祖声明和赋值后不能像列表一样添加、删除和修改元素。"
   ]
  },
  {
   "cell_type": "markdown",
   "metadata": {},
   "source": [
    "# 5.一个列表中的元素类型要求一致吗?例如list=[1，\"a\"]是正确的吗？"
   ]
  },
  {
   "cell_type": "code",
   "execution_count": null,
   "metadata": {},
   "outputs": [],
   "source": [
    "不要求；是正确的。"
   ]
  },
  {
   "cell_type": "markdown",
   "metadata": {},
   "source": [
    "# 6.列表是否还可以套别的列表？列举一个例子说明。"
   ]
  },
  {
   "cell_type": "code",
   "execution_count": 16,
   "metadata": {},
   "outputs": [
    {
     "name": "stdout",
     "output_type": "stream",
     "text": [
      "['a', 'f', 'g', 'd']\n",
      "[2, 5, 8]\n",
      "['student', 'teacher']\n"
     ]
    }
   ],
   "source": [
    "#可以。\n",
    "list=[[\"a\",\"f\",\"g\",\"d\"],[2,5,8],[\"student\",\"teacher\"]]\n",
    "for i in list:\n",
    "    print(i)"
   ]
  },
  {
   "cell_type": "markdown",
   "metadata": {},
   "source": [
    "# 7.用一个字典描述一个日期，包含年year、月month、日day的键字。"
   ]
  },
  {
   "cell_type": "code",
   "execution_count": 23,
   "metadata": {},
   "outputs": [
    {
     "name": "stdout",
     "output_type": "stream",
     "text": [
      "日期： 2020年 3月 1日\n"
     ]
    }
   ],
   "source": [
    "dict={\"year\":\"2020年\",\"month\":\"3月\",\"day\":\"1日\"}\n",
    "print(\"日期：\",dict[\"year\"],dict[\"month\"],dict[\"day\"])"
   ]
  },
  {
   "cell_type": "markdown",
   "metadata": {},
   "source": [
    "# 8.Python 的字典数据类型与JSON数据类有很多相似的地方，说明有哪些共同点。"
   ]
  },
  {
   "cell_type": "code",
   "execution_count": 22,
   "metadata": {},
   "outputs": [
    {
     "name": "stdout",
     "output_type": "stream",
     "text": [
      "\n"
     ]
    }
   ],
   "source": [
    "形式上都是\"keys:value\"的形式。"
   ]
  },
  {
   "cell_type": "markdown",
   "metadata": {},
   "source": [
    "# 9.写出下列程序执行的结果：\n",
    "# d={\"students\":[{\"name\":\"A\",\"sex\":\"M\"},{\"name\":\"B\",\"sex\":\"C\"}]}\n",
    "# for kl in d.keys():\n",
    "#     for k2 in d[kl]:\n",
    "#         for k3 in k2.keys():\n",
    "# print(k3,k2[k3])"
   ]
  },
  {
   "cell_type": "code",
   "execution_count": 26,
   "metadata": {},
   "outputs": [
    {
     "name": "stdout",
     "output_type": "stream",
     "text": [
      "name A\n",
      "sex M\n",
      "name B\n",
      "sex C\n"
     ]
    }
   ],
   "source": [
    "d={\"students\":[{\"name\":\"A\",\"sex\":\"M\"},{\"name\":\"B\",\"sex\":\"C\"}]}\n",
    "for kl in d.keys():\n",
    "    for k2 in d[kl]:\n",
    "        for k3 in k2.keys():\n",
    "            print(k3,k2[k3])"
   ]
  },
  {
   "cell_type": "markdown",
   "metadata": {},
   "source": [
    "# 10.如果使用字典描述一个时间，例如t={\"hour\":12,\"minute\":23,\"second\":34}表示时间“12：23：34”，设计一个函数interval（t1，t2），计算时间t1与t2的时间差，返回相同结构的一个字典时间。\n"
   ]
  },
  {
   "cell_type": "code",
   "execution_count": 50,
   "metadata": {},
   "outputs": [
    {
     "name": "stdout",
     "output_type": "stream",
     "text": [
      "{'hour': 1, 'minute': 44, 'second': 13}\n"
     ]
    }
   ],
   "source": [
    "def interval(t1,t2):\n",
    "    time1=t1[\"hour\"]*3600+t1[\"minute\"]*60+t1[\"second\"]\n",
    "    time2=t2[\"hour\"]*3600+t2[\"minute\"]*60+t2[\"second\"]\n",
    "    hour=abs(time1-time2)//3600\n",
    "    minute=(abs(time1-time2)%3600)//60\n",
    "    second=(abs(time1-time2)%3600)%60\n",
    "    return {\"hour\":hour,\"minute\":minute,\"second\":second}\n",
    "t1={\"hour\":22,\"minute\":16,\"second\":33}\n",
    "t2={\"hour\":20,\"minute\":32,\"second\":20}\n",
    "print(interval(t1,t2))"
   ]
  },
  {
   "cell_type": "code",
   "execution_count": null,
   "metadata": {},
   "outputs": [],
   "source": []
  }
 ],
 "metadata": {
  "kernelspec": {
   "display_name": "Python 3",
   "language": "python",
   "name": "python3"
  },
  "language_info": {
   "codemirror_mode": {
    "name": "ipython",
    "version": 3
   },
   "file_extension": ".py",
   "mimetype": "text/x-python",
   "name": "python",
   "nbconvert_exporter": "python",
   "pygments_lexer": "ipython3",
   "version": "3.7.1"
  }
 },
 "nbformat": 4,
 "nbformat_minor": 2
}
