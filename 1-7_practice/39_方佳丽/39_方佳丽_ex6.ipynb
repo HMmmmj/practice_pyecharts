{
 "cells": [
  {
   "cell_type": "markdown",
   "metadata": {},
   "source": [
    "# 1.编写一个程序建立一个文本文件abc.txt，向其中写入”abc\\n”并存盘，查看abc.txt是几个字节的文件，说明为什么。"
   ]
  },
  {
   "cell_type": "code",
   "execution_count": 31,
   "metadata": {},
   "outputs": [
    {
     "name": "stdout",
     "output_type": "stream",
     "text": [
      "5\n"
     ]
    }
   ],
   "source": [
    "f = open(\"C:\\\\Users\\\\Administrator\\\\Desktop\\\\abc.txt\",\"wt\")\n",
    "f.write(\"abc\\n\")\n",
    "print(f.tell())\n",
    "f.close()"
   ]
  },
  {
   "cell_type": "markdown",
   "metadata": {},
   "source": [
    "# 2.用Windows记事本编写一个文本文件xyz.txt，在其中存入”123”后打”Enter”键换行，存盘后查看文件应是5个字节长，用read（1）读该文件，看看要读5次还是4次就把文件读完，为什么？编写程序验证。"
   ]
  },
  {
   "cell_type": "code",
   "execution_count": 50,
   "metadata": {},
   "outputs": [
    {
     "name": "stdout",
     "output_type": "stream",
     "text": [
      "5\n"
     ]
    }
   ],
   "source": [
    "f = open(\"C:\\\\Users\\\\Administrator\\\\Desktop\\\\xyz.txt\",\"wt\")\n",
    "f.write(\"123\\n\")\n",
    "print(f.tell())\n",
    "f.close()"
   ]
  },
  {
   "cell_type": "code",
   "execution_count": 52,
   "metadata": {},
   "outputs": [
    {
     "name": "stdout",
     "output_type": "stream",
     "text": [
      "1\n",
      "12\n",
      "123\n",
      "123\n",
      "\n"
     ]
    }
   ],
   "source": [
    "def readFile(n):\n",
    "    f = open(\"C:\\\\Users\\\\Administrator\\\\Desktop\\\\xyz.txt\",\"rt\")\n",
    "    a = f.read(n)\n",
    "    print(a)\n",
    "    f.close()\n",
    "    \n",
    "readFile(1)\n",
    "readFile(2)\n",
    "readFile(3)\n",
    "readFile(4)"
   ]
  },
  {
   "cell_type": "markdown",
   "metadata": {},
   "source": [
    "# 3.编写程序查找某个单词（键盘输入）所出现的行号及该行的内容，并统计该单词在文件共出现多少次。"
   ]
  },
  {
   "cell_type": "code",
   "execution_count": null,
   "metadata": {},
   "outputs": [],
   "source": []
  },
  {
   "cell_type": "markdown",
   "metadata": {},
   "source": [
    "# 4.设一个文本文件marks.txt中存储了学生的姓名及成绩如下：\n",
    "# 张三 96\n",
    "# 李四 95\n",
    "# …\n",
    "# 每行为学生姓名与成绩，编写一个程序读取这些学生的姓名与成绩并按成绩的从高到低的顺序输出到另外一个文件sorted.txt中。"
   ]
  },
  {
   "cell_type": "code",
   "execution_count": 13,
   "metadata": {},
   "outputs": [],
   "source": [
    "f = open(\"C:\\\\Users\\\\Administrator\\\\Desktop\\\\marks.txt\",\"rt\")\n",
    "for line in f.readlines():\n",
    "    with open(\"C:\\\\Users\\\\Administrator\\\\Desktop\\\\sorted.txt\",\"w\") as sorted:\n",
    "        sorted.write(line)  \n",
    "f.close()"
   ]
  },
  {
   "cell_type": "markdown",
   "metadata": {},
   "source": [
    "# 5.用二进制方式创建文件abc并写入”abc\\r\\nxyz\\n\\r123\\r456\\n”的字符串，查看该文件有多少个字节，再用文本文件的方式打开此文件并用fgetc来读，看看每次读出的是什么字符。"
   ]
  },
  {
   "cell_type": "code",
   "execution_count": 11,
   "metadata": {},
   "outputs": [
    {
     "name": "stdout",
     "output_type": "stream",
     "text": [
      "18\n"
     ]
    }
   ],
   "source": [
    "f = open(\"C:\\\\Users\\\\Administrator\\\\Desktop\\\\abc\",\"wb\")\n",
    "f.write(\"abc\\r\\nxyz\\n\\r123\\r456\\n\".encode(\"gbk\"))\n",
    "print(f.tell())\n",
    "f.close()"
   ]
  },
  {
   "cell_type": "code",
   "execution_count": 12,
   "metadata": {},
   "outputs": [
    {
     "name": "stdout",
     "output_type": "stream",
     "text": [
      "b'abc\\r\\nxyz\\n\\r123\\r456\\n'\n"
     ]
    }
   ],
   "source": [
    "f = open(\"C:\\\\Users\\\\Administrator\\\\Desktop\\\\abc\",\"rb\")\n",
    "s = f.read()\n",
    "print(s)\n",
    "f.close()"
   ]
  },
  {
   "cell_type": "markdown",
   "metadata": {},
   "source": [
    "# 6.用文本文件方式创建文件并写入”abc\\nxyz\\r\\n123\\r”字符串，再用二进制方式打开读取每个字节，看看每个字节是什么。"
   ]
  },
  {
   "cell_type": "code",
   "execution_count": 9,
   "metadata": {},
   "outputs": [],
   "source": [
    "f = open(\"C:\\\\Users\\\\Administrator\\\\Desktop\\\\123.txt\",\"wt\")\n",
    "f.write(\"abc\\nxyz\\r\\n123\\r\")\n",
    "f.close()"
   ]
  },
  {
   "cell_type": "code",
   "execution_count": 10,
   "metadata": {},
   "outputs": [
    {
     "name": "stdout",
     "output_type": "stream",
     "text": [
      "0x61 0x62 0x63 0xd 0xa 0x78 0x79 0x7a 0xd 0xd 0xa 0x31 0x32 0x33 0xd "
     ]
    }
   ],
   "source": [
    "f = open(\"C:\\\\Users\\\\Administrator\\\\Desktop\\\\123.txt\",\"rb\")\n",
    "m = f.read()\n",
    "for i in range(len(m)):\n",
    "    print(hex(m[i]),end = \" \")\n",
    "f.close()"
   ]
  },
  {
   "cell_type": "markdown",
   "metadata": {},
   "source": [
    "# 7.编写一个程序，它能统计一篇英文文章中的a~z各个字母出现的次数（不分大小写），并按出现次数的多少按顺序输出。"
   ]
  },
  {
   "cell_type": "code",
   "execution_count": null,
   "metadata": {},
   "outputs": [],
   "source": []
  }
 ],
 "metadata": {
  "kernelspec": {
   "display_name": "Python 3",
   "language": "python",
   "name": "python3"
  },
  "language_info": {
   "codemirror_mode": {
    "name": "ipython",
    "version": 3
   },
   "file_extension": ".py",
   "mimetype": "text/x-python",
   "name": "python",
   "nbconvert_exporter": "python",
   "pygments_lexer": "ipython3",
   "version": "3.7.1"
  }
 },
 "nbformat": 4,
 "nbformat_minor": 2
}
