{
 "cells": [
  {
   "cell_type": "markdown",
   "metadata": {},
   "source": [
    "1、定义一个数学中的复数类Complex，它有一个构造函数与一个显示函数，建立一个Comlplex的对象并调用该显示函数显示。"
   ]
  },
  {
   "cell_type": "code",
   "execution_count": 7,
   "metadata": {},
   "outputs": [
    {
     "name": "stdout",
     "output_type": "stream",
     "text": [
      "(1,2)\n"
     ]
    }
   ],
   "source": [
    "class Complex:     \n",
    "    def __init__(self,x,y):         \n",
    "        self.x = x         \n",
    "        self.y = y   \n",
    "    def show(self):      \n",
    "           print(\"(\"+str(self.x)+\",\"+str(self.y)+\")\") \n",
    "c = Complex(1,2) \n",
    "c.show()"
   ]
  },
  {
   "cell_type": "markdown",
   "metadata": {},
   "source": [
    "2、定义一个计算机类MyComputer，它包含CPU类型(String类型)、RAM内存大小（Integer类型）、HD硬盘大小（Integer类型）设计他的构造函数，并设计一个显示函数，建立一个MyComputer函数对象并调用该显示函数显示。"
   ]
  },
  {
   "cell_type": "code",
   "execution_count": 8,
   "metadata": {},
   "outputs": [
    {
     "name": "stdout",
     "output_type": "stream",
     "text": [
      "Intel i-7 8 500\n"
     ]
    }
   ],
   "source": [
    "class Computer:     \n",
    "    def __init__(self,CPU,RAM,HD):         \n",
    "        self.CPU = CPU         \n",
    "        self.RAM = RAM         \n",
    "        self.HD = HD     \n",
    "    def show(self):        \n",
    "            print(self.CPU,self.RAM,self.HD) \n",
    "c = Computer(\"Intel i-8\",128,500) \n",
    "c.show()"
   ]
  },
  {
   "cell_type": "markdown",
   "metadata": {},
   "source": [
    "3.设计一个整数类MyIteger,它有一个整数变量，并有一个Value属性，可以通过Value存取该变量的值，还有一个转二进制的成员函数toBin及转十六进制字符串成员函数toHex。"
   ]
  },
  {
   "cell_type": "code",
   "execution_count": 9,
   "metadata": {},
   "outputs": [
    {
     "name": "stdout",
     "output_type": "stream",
     "text": [
      "10\n",
      "0xa\n",
      "0b1010\n"
     ]
    }
   ],
   "source": [
    "class MyInteger:     \n",
    "    def __init__(self,v): \n",
    "        self.Value = v     \n",
    "    def show(self):         \n",
    "        print(self.Value)     \n",
    "    def toHex(self):         \n",
    "        return hex(self.Value)     \n",
    "    def toBin(self):     \n",
    "        return bin(self.Value) \n",
    "i = MyInteger(10) \n",
    "i.show()\n",
    "print(i.toHex()) \n",
    "print(i.toBin()) "
   ]
  },
  {
   "cell_type": "markdown",
   "metadata": {},
   "source": [
    "4. 建立一个普通人员类 Person，包含姓名(m_name)、性别(m_sex)、年龄(m_age)成员变量。 (1) 建立 Person 类，包含 Private 成员 m_name、m_sex、m_age 成员变量； (2) 建立 Person 的构造函数； (3) 建立一个显示过程 Show()，显示该对象的数据； (4) 派生一个学生类 Student，增加班级(m_class)，专业(m_major)，设计这些类的构造函 数； (5) 建立 m_class、m_major 对应的属性函数 sClass()、sMajor()； (6) 建立显示成员函数 Show()，显示该学生对象所有成员数据"
   ]
  },
  {
   "cell_type": "code",
   "execution_count": null,
   "metadata": {},
   "outputs": [],
   "source": [
    "#(1)建立 Person 类，包含 Private 成员 m_name、m_sex、m_age 成员变量；\n",
    "#(2) 建立 Person 的构造函数；\n",
    "class Person:     \n",
    "    def __init__(self,name,sex,age):         \n",
    "        self.__m_name = name         \n",
    "        self.__m_sex = sex         \n",
    "        self.__m_age = age     \n",
    "#(3)建立一个显示过程 Show()，显示该对象的数据    \n",
    "    def show(self,end = \"\\n\"):         \n",
    "        print(self.__m_name,self.__m_sex,self.__m_age,end = end) \n",
    "#(4)派生一个学生类 Student，增加班级(m_class)，专业(m_major)，设计这些类的构造函 数\n",
    "class Student(Person):     \n",
    "    def __init__(self,name,sex,age,mclass,major):        \n",
    "        Person.__init__(self,name,sex,age)         \n",
    "        self.__m_class = mclass         \n",
    "        self.__m_major = major \n",
    "#(5)建立 m_class、m_major 对应的属性函数 sClass()、sMajor()        \n",
    "    def sClass(self):         \n",
    "            return self.__m_class     \n",
    "    def sMajor(self):         \n",
    "            return self.__m_major     \n",
    "    def show(self):         \n",
    "        Person.show(self,end = \" \")         \n",
    "        print(self.__m_class,self.__m_major) \n",
    "#(6)建立显示成员函数 Show()，显示该学生对象所有成员数据\n",
    "s = Student(\"cl\",\"Male\",19,\"Class 1\",\"law\") \n",
    "s.show() "
   ]
  },
  {
   "cell_type": "markdown",
   "metadata": {},
   "source": [
    "5. 建立一个时间类 Time，它包含时 hour,分 minute，秒 second 的实例属性 (1) 设计时间显示函数 show(self)； (2) 设计两个时间大小比较函数 compare(self,t)，其中 t 是另外一个时间； "
   ]
  },
  {
   "cell_type": "code",
   "execution_count": null,
   "metadata": {},
   "outputs": [],
   "source": [
    "class time(object):\n",
    "    def __init__(self, h=0, m=0, s=0):\n",
    "        self.hour = h\n",
    "        self.minute = m\n",
    "        self.second = s\n",
    "    def compare(self, t):\n",
    "        if (self.hour == t.hour):\n",
    "            if (self.minute == t.minute):\n",
    "                if (self.second == t.second):\n",
    "                    return 0\n",
    "                else:\n",
    "                    return self.second - t.second\n",
    "            else:\n",
    "                return self.minute - t.minute\n",
    "        else:\n",
    "            return self.hour - t.hour\n",
    "\n",
    "def cmp2str(n):\n",
    "    if (n == 0):\n",
    "        return \"=\"\n",
    "    elif (n < 0):\n",
    "        return \"<\"\n",
    "    else:\n",
    "        return \">\"\n",
    "\n",
    "t1 = time(2019, 3, 1)\n",
    "t2 = time(2019, 3, 20)\n",
    "t3 = time(2019, 5, 1)\n",
    "t4 = time(2019, 5, 1)\n",
    "print(cmp2str(t1.compare(t2)))\n",
    "print(cmp2str(t2.compare(t3)))\n",
    "print(cmp2str(t3.compare(t4)))\n",
    "print(cmp2str(t4.compare(t1)))"
   ]
  }
 ],
 "metadata": {
  "kernelspec": {
   "display_name": "Python 3",
   "language": "python",
   "name": "python3"
  },
  "language_info": {
   "codemirror_mode": {
    "name": "ipython",
    "version": 3
   },
   "file_extension": ".py",
   "mimetype": "text/x-python",
   "name": "python",
   "nbconvert_exporter": "python",
   "pygments_lexer": "ipython3",
   "version": "3.7.1"
  }
 },
 "nbformat": 4,
 "nbformat_minor": 2
}
