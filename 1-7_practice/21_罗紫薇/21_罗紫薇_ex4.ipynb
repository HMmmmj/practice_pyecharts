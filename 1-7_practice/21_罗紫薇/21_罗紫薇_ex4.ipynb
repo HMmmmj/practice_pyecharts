{
 "cells": [
  {
   "cell_type": "markdown",
   "metadata": {},
   "source": [
    "#### 1. 能直接修改字符串的某个字符吗?例如s=\" abc\",s[0]= \"1”可以吗?"
   ]
  },
  {
   "cell_type": "code",
   "execution_count": 3,
   "metadata": {},
   "outputs": [
    {
     "data": {
      "text/plain": [
       "'1 b c'"
      ]
     },
     "execution_count": 3,
     "metadata": {},
     "output_type": "execute_result"
    }
   ],
   "source": [
    "# 字符串是不可变类型，无法直接修改字符串的某一位字符。可以将字符串变为列表在进行修改\n",
    "s=\"abc\"\n",
    "s1=list(s)\n",
    "s1[0]=\"1\"\n",
    "s=' '.join(s1)\n",
    "s"
   ]
  },
  {
   "cell_type": "markdown",
   "metadata": {},
   "source": [
    "#### 2. 输入一个字符串，输出它所包含的所有数字，例如输入\"23me3e\"，输出\"233\""
   ]
  },
  {
   "cell_type": "code",
   "execution_count": 2,
   "metadata": {},
   "outputs": [
    {
     "name": "stdout",
     "output_type": "stream",
     "text": [
      "请输入：3243224dsadvasg\n",
      "3243224\n"
     ]
    }
   ],
   "source": [
    "import re\n",
    "st = input(\"请输入：\")\n",
    "temp = re.sub('[a-zA-Z]', '', st)\n",
    "print(temp)"
   ]
  },
  {
   "cell_type": "markdown",
   "metadata": {},
   "source": [
    "#### 3. 设计一个字符串函数reverse(s)， 它返回字符串s的反串，例如reverse(\" abc\")返回\"cba\"。"
   ]
  },
  {
   "cell_type": "code",
   "execution_count": 3,
   "metadata": {},
   "outputs": [
    {
     "name": "stdout",
     "output_type": "stream",
     "text": [
      "cba\n"
     ]
    }
   ],
   "source": [
    "def reverse(s):\n",
    "    return s[::-1]\n",
    "print(reverse(\"abc\"))"
   ]
  },
  {
   "cell_type": "markdown",
   "metadata": {},
   "source": [
    "#### 4.元祖与列表有什么不同?"
   ]
  },
  {
   "cell_type": "code",
   "execution_count": null,
   "metadata": {},
   "outputs": [],
   "source": [
    "列表是动态数组，它们不可变且可以重设长度（改变其内部元素的个数）。\n",
    "元组是静态数组，它们不可变，且其内部数据一旦创建便无法改变。\n",
    "元组缓存于Python运行时环境，这意味着我们每次使用元组时无须访问内核去分配内存。\n",
    "这些区别结实率两者在设计哲学上的不同：\n",
    "    列表可被用于保存多个互相独立对象的数据集合\n",
    "    元组用于描述一个不会改不安的事务的多个属性"
   ]
  },
  {
   "cell_type": "markdown",
   "metadata": {},
   "source": [
    "#### 5. - 个列表中的元素类型要求一致吗? 例如list=[1，\"a\"]是 正确的吗?"
   ]
  },
  {
   "cell_type": "code",
   "execution_count": 15,
   "metadata": {},
   "outputs": [
    {
     "data": {
      "text/plain": [
       "[1, 'a']"
      ]
     },
     "execution_count": 15,
     "metadata": {},
     "output_type": "execute_result"
    }
   ],
   "source": [
    "# 可以不一致，是正确的\n",
    "list=[1,\"a\"]\n",
    "list"
   ]
  },
  {
   "cell_type": "markdown",
   "metadata": {},
   "source": [
    "#### 6.列表是否还可以嵌套别的列表?列举- - 个例子说明。"
   ]
  },
  {
   "cell_type": "code",
   "execution_count": 10,
   "metadata": {},
   "outputs": [
    {
     "name": "stdout",
     "output_type": "stream",
     "text": [
      "[2, 5, 6, [1, 'w', 34, 5, 3]]\n"
     ]
    }
   ],
   "source": [
    "# 可以。\n",
    "list=[1,\"w\",34,5,3]\n",
    "list1=[2,5,6,list]\n",
    "print(list1)"
   ]
  },
  {
   "cell_type": "markdown",
   "metadata": {},
   "source": [
    "#### 7. 用一个字典描述一一个日期，包含年year、 月month、 日day的键字。."
   ]
  },
  {
   "cell_type": "code",
   "execution_count": 4,
   "metadata": {},
   "outputs": [
    {
     "name": "stdout",
     "output_type": "stream",
     "text": [
      "{'year': 2020, 'month': 3, 'day': 2}\n"
     ]
    }
   ],
   "source": [
    "import datetime\n",
    "today_time = datetime.datetime.now()\n",
    "today_time_dict = {'year': today_time.year, 'month': today_time.month, 'day': today_time.day}\n",
    "print(today_time_dict)"
   ]
  },
  {
   "cell_type": "markdown",
   "metadata": {},
   "source": [
    "#### 8. Python 的字典数据类型与JSON数据类有很多相似的地方，说明有哪些共同点。"
   ]
  },
  {
   "cell_type": "code",
   "execution_count": null,
   "metadata": {},
   "outputs": [],
   "source": [
    " 从形式上看，都是“Key：Value”的形式。"
   ]
  },
  {
   "cell_type": "markdown",
   "metadata": {},
   "source": [
    "#### 9.写 出下列程序执行的结果:"
   ]
  },
  {
   "cell_type": "code",
   "execution_count": 14,
   "metadata": {},
   "outputs": [
    {
     "name": "stdout",
     "output_type": "stream",
     "text": [
      "name A\n",
      "sex M\n",
      "name B\n",
      "sex C\n"
     ]
    }
   ],
   "source": [
    "d={\"students\":[{\"name\":\"A\",\"sex\":\"M\"}, {\"name\" :\"B\", \"sex\":\"C\"}]}\n",
    "for k1 in d.keys():\n",
    "    for k2 in d[k1]:\n",
    "        for k3 in k2.keys():\n",
    "            print (k3,k2[k3])"
   ]
  },
  {
   "cell_type": "markdown",
   "metadata": {},
   "source": [
    "#### 10.如果使用字 典描述一一个时间， 例如t={\" hour\" :12，\"minute\" :23，\" second\" :34}表示时间\"12:23:34\",设计-一个函数interval(t1, t2),计算时间t1与t2的时间差,返回相同结构的一一个字典时间。."
   ]
  },
  {
   "cell_type": "code",
   "execution_count": 5,
   "metadata": {},
   "outputs": [
    {
     "name": "stdout",
     "output_type": "stream",
     "text": [
      "{'hour': 2, 'minute': 30, 'second': 30}\n"
     ]
    }
   ],
   "source": [
    "t = {\"hour\": 12, \"minute\": 23, \"second\": 34}\n",
    "\n",
    "def interval(t1, t2):\n",
    "    time1 = t1['hour'] * 3600 + t1['minute'] * 60 + t1['second']\n",
    "    time2 = t2['hour'] * 3600 + t2['minute'] * 60 + t2['second']\n",
    "    second = abs(time1 - time2) % 60\n",
    "    hour = (abs(time1 - time2) - second) // 3600\n",
    "    minute = (abs(time1 - time2) - second - hour * 3600) // 60\n",
    "    return {'hour': hour, 'minute': minute, 'second': second}\n",
    "\n",
    "t1 = {'hour': 10, 'minute': 0, 'second': 0}\n",
    "t2 = {'hour': 12, 'minute': 30, 'second': 30}\n",
    "print(interval(t1, t2))\n"
   ]
  }
 ],
 "metadata": {
  "kernelspec": {
   "display_name": "Python 3",
   "language": "python",
   "name": "python3"
  },
  "language_info": {
   "codemirror_mode": {
    "name": "ipython",
    "version": 3
   },
   "file_extension": ".py",
   "mimetype": "text/x-python",
   "name": "python",
   "nbconvert_exporter": "python",
   "pygments_lexer": "ipython3",
   "version": "3.7.4"
  }
 },
 "nbformat": 4,
 "nbformat_minor": 4
}
