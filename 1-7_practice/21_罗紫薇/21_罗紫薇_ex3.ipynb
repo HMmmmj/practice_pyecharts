{
 "cells": [
  {
   "cell_type": "markdown",
   "metadata": {},
   "source": [
    "#### 1.计算1+2+4.....+100的和。"
   ]
  },
  {
   "cell_type": "code",
   "execution_count": 1,
   "metadata": {},
   "outputs": [
    {
     "name": "stdout",
     "output_type": "stream",
     "text": [
      "5050\n"
     ]
    }
   ],
   "source": [
    "n=100\n",
    "sum=0\n",
    "i=0\n",
    "while i<=n:\n",
    "    sum=sum+i\n",
    "    i=i+1\n",
    "print(sum)"
   ]
  },
  {
   "cell_type": "markdown",
   "metadata": {},
   "source": [
    "#### 2.计算1+1/3+1/5.....+1/99的和。"
   ]
  },
  {
   "cell_type": "code",
   "execution_count": 11,
   "metadata": {},
   "outputs": [
    {
     "name": "stdout",
     "output_type": "stream",
     "text": [
      "2.937774848474907\n"
     ]
    }
   ],
   "source": [
    "n=100\n",
    "sum=0\n",
    "i=1\n",
    "while i<n:\n",
    "    sum=sum+1/i\n",
    "    i=i+2\n",
    "print(sum)"
   ]
  },
  {
   "cell_type": "markdown",
   "metadata": {},
   "source": [
    "#### 3.从键盘输入-一个字符串，直到回车结束，统计字符串中的大小写英文字母各有多少个。"
   ]
  },
  {
   "cell_type": "code",
   "execution_count": 1,
   "metadata": {},
   "outputs": [
    {
     "name": "stdin",
     "output_type": "stream",
     "text": [
      "输入字符串： 2435ereafAFSDSGs\n"
     ]
    },
    {
     "name": "stdout",
     "output_type": "stream",
     "text": [
      "大写：6,小写：6\n"
     ]
    }
   ],
   "source": [
    "instrs = input(\"输入字符串：\")\n",
    "big = 0\n",
    "small = 0\n",
    "for i in instrs:\n",
    "    if 'z' >= i >= 'a':\n",
    "        small += 1\n",
    "    elif 'Z' >= i >= 'A':\n",
    "        big += 1\n",
    "print(\"大写：\" + str(big) + \",小写：\" + str(small))"
   ]
  },
  {
   "cell_type": "markdown",
   "metadata": {},
   "source": [
    "#### 5.有一-分数序列: 2/1，3/2， 5/3， 8/5，13/8， 21/13..， 求出这个数列的前20项之和。"
   ]
  },
  {
   "cell_type": "code",
   "execution_count": 25,
   "metadata": {},
   "outputs": [
    {
     "name": "stdout",
     "output_type": "stream",
     "text": [
      "32.66026079864164\n"
     ]
    }
   ],
   "source": [
    "n=2\n",
    "a=1\n",
    "i=1\n",
    "sum=0\n",
    "while i<=20:\n",
    "    sum=sum+n/a\n",
    "    n=n+a\n",
    "    a=n-a\n",
    "    i=i+1\n",
    "#     print(n,a,sum)\n",
    "print(sum)"
   ]
  },
  {
   "cell_type": "markdown",
   "metadata": {},
   "source": [
    "#### 6.输入若千个同学的成绩，计算平均成绩,输入的成绩为负数或大于100时表示结束输入。"
   ]
  },
  {
   "cell_type": "code",
   "execution_count": 7,
   "metadata": {},
   "outputs": [
    {
     "name": "stdin",
     "output_type": "stream",
     "text": [
      "请输入成绩： 23\n",
      "请输入成绩： 46\n",
      "请输入成绩： 78\n",
      "请输入成绩： 97\n",
      "请输入成绩： 101\n"
     ]
    },
    {
     "name": "stdout",
     "output_type": "stream",
     "text": [
      "61.0\n"
     ]
    }
   ],
   "source": [
    "li = []\n",
    "while True:\n",
    "    grade = float(input(\"请输入成绩：\"))\n",
    "    if grade < 0 or grade > 100:\n",
    "        break\n",
    "    else:\n",
    "        li.append(grade)\n",
    "print(sum(li) / len(li))"
   ]
  },
  {
   "cell_type": "markdown",
   "metadata": {},
   "source": [
    "#### 7.输入三个正整数a、b、n,精确计算a/b的结果到小数后n位。"
   ]
  },
  {
   "cell_type": "code",
   "execution_count": 5,
   "metadata": {},
   "outputs": [
    {
     "name": "stdin",
     "output_type": "stream",
     "text": [
      "a: 43\n",
      "b: 54\n",
      "n: 7\n"
     ]
    },
    {
     "name": "stdout",
     "output_type": "stream",
     "text": [
      "0.7962963\n"
     ]
    }
   ],
   "source": [
    "a = float(input(\"a:\"))\n",
    "b = float(input(\"b:\"))\n",
    "n = int(input(\"n:\"))\n",
    "print(round(a / b, n))  "
   ]
  },
  {
   "cell_type": "markdown",
   "metadata": {},
   "source": [
    "#### 8. -一个猴子第一 天摘下若干个桃子，当即吃了一半，还不过瘾，又多吃了一个。第二天早上又将剩下的桃子吃掉一伴,又多吃了一一个。以后每天早上都吃了前一-天剩下的- -半零-一个。到第10天早.上想再吃时，见只剩下-一个桃子了。求第一天共摘了多少。"
   ]
  },
  {
   "cell_type": "code",
   "execution_count": null,
   "metadata": {},
   "outputs": [],
   "source": [
    "peach = 1\n",
    "for i in range(9):\n",
    "    for j in range(10000):\n",
    "        if j - j / 2 - 1 == peach:\n",
    "            peach = j\n",
    "            break\n",
    "print(\"第一天共摘\" + str(ct) + \"个桃子\\n\")"
   ]
  },
  {
   "cell_type": "markdown",
   "metadata": {},
   "source": [
    "#### 9.有一序列: 1，3, 5，8，13，21.... 用while循环求出这个数列的前20项之和。"
   ]
  },
  {
   "cell_type": "code",
   "execution_count": 3,
   "metadata": {},
   "outputs": [
    {
     "name": "stdout",
     "output_type": "stream",
     "text": [
      "3\n",
      "5\n",
      "8 9\n",
      "13 17\n",
      "21 30\n",
      "34 51\n",
      "55 85\n",
      "89 140\n",
      "144 229\n",
      "233 373\n",
      "377 606\n",
      "610 983\n",
      "987 1593\n",
      "1597 2580\n",
      "2584 4177\n",
      "4181 6761\n",
      "6765 10942\n",
      "10946 17707\n",
      "17711 28653\n",
      "28657 46364\n",
      "28657 46364\n"
     ]
    }
   ],
   "source": [
    "n=1\n",
    "i=1\n",
    "a=3\n",
    "s=0\n",
    "while i<=2:\n",
    "    s=s+n\n",
    "    n=n+2\n",
    "    i=i+1\n",
    "#     print(n)\n",
    "while (i>=3 and i<=20):\n",
    "    s=s+n\n",
    "    n=n+a\n",
    "    a=n-a\n",
    "    i=i+1\n",
    "#     print(n,s)\n",
    "print(n,s)"
   ]
  },
  {
   "cell_type": "markdown",
   "metadata": {},
   "source": [
    "#### 10.一个数如正好等于它的所有因子之和,则称为完数,例如6的因子有1.2、3, 而6=1+2+3,因此6是一个完数。编程序找出1000之内的所有完数。"
   ]
  },
  {
   "cell_type": "code",
   "execution_count": 13,
   "metadata": {},
   "outputs": [
    {
     "name": "stdout",
     "output_type": "stream",
     "text": [
      "6\n",
      "28\n",
      "496\n"
     ]
    }
   ],
   "source": [
    "for i in range(2, 1001):\n",
    "    count = 0\n",
    "    for j in range(1, i):\n",
    "        if i % j == 0:\n",
    "            count += j\n",
    "    if count == i:\n",
    "        print(i)"
   ]
  },
  {
   "cell_type": "markdown",
   "metadata": {},
   "source": [
    "#### 11.有近千名学生排队，7人- -行余3人，5人- -行余2人，3人一行余1人，编写程序求学生人数"
   ]
  },
  {
   "cell_type": "code",
   "execution_count": null,
   "metadata": {},
   "outputs": [],
   "source": [
    "for i in range(2000):\n",
    "    if i % 7 == 3:\n",
    "        if i % 5 == 2:\n",
    "            if i % 3 == 1:\n",
    "                print(i)"
   ]
  },
  {
   "cell_type": "markdown",
   "metadata": {},
   "source": [
    "#### 12. 小华今年12岁，他妈妈比他大20岁，编写程序计算多少年后他妈妈年龄比他大一倍。"
   ]
  },
  {
   "cell_type": "code",
   "execution_count": 9,
   "metadata": {},
   "outputs": [
    {
     "name": "stdout",
     "output_type": "stream",
     "text": [
      "8年后\n"
     ]
    }
   ],
   "source": [
    "a=12\n",
    "b=32\n",
    "n=1\n",
    "while n<100:\n",
    "    if 2*(a+n)==b+n:\n",
    "        print(str(n)+\"年后\")\n",
    "    n=n+1"
   ]
  },
  {
   "cell_type": "markdown",
   "metadata": {},
   "source": [
    "#### 13.两个乒乓球队进行比赛，各出三人。甲队为a,b,c三人，乙队为x,y,z三人。已抽签决定比赛名单。有人向队员打听比赛的名单。a说他不和x比，c 说他不和x,z比，请编程序找出三队寨手的名单。"
   ]
  },
  {
   "cell_type": "code",
   "execution_count": 10,
   "metadata": {},
   "outputs": [
    {
     "name": "stdout",
     "output_type": "stream",
     "text": [
      "A的对手是Z\n",
      "\n",
      "B的对手是X\n",
      "\n",
      "C的对手是Y\n",
      "\n"
     ]
    }
   ],
   "source": [
    "A = B = C = ''\n",
    "li = ['X', 'Y', 'Z']\n",
    "for st in li:\n",
    "    if st != 'X' and st != 'Z':\n",
    "        C = st\n",
    "for st in li:\n",
    "    if st != 'X' and st != C:\n",
    "        A = st\n",
    "for st in li:\n",
    "    if st != A and st != C:\n",
    "        B = st\n",
    "print(\"A的对手是\" + A + \"\\n\")\n",
    "print(\"B的对手是\" + B + \"\\n\")\n",
    "print(\"C的对手是\" + C + \"\\n\")\n"
   ]
  },
  {
   "cell_type": "markdown",
   "metadata": {},
   "source": [
    "#### 14.目前世界人口是60亿，如每年按1.5%的比例增长，则多少年后是80亿?"
   ]
  },
  {
   "cell_type": "code",
   "execution_count": null,
   "metadata": {},
   "outputs": [],
   "source": [
    "now = 60\n",
    "i = 0\n",
    "while True:\n",
    "    i += 1\n",
    "    if now * (1 + 0.015) >= 80:\n",
    "        print(str(i) + \"年后\")\n",
    "        break\n",
    "    now = now * (1 + 0.015)"
   ]
  },
  {
   "cell_type": "markdown",
   "metadata": {},
   "source": [
    "#### 15. - -球从80米高度自由下落，每次落地后返回原高度的一-半，再落下。求它在第10次落地时共经过多少米?第10次反弹多高?"
   ]
  },
  {
   "cell_type": "code",
   "execution_count": 11,
   "metadata": {},
   "outputs": [
    {
     "name": "stdout",
     "output_type": "stream",
     "text": [
      "共计路程：239.6875\n",
      "第十次反弹：0.078125\n"
     ]
    }
   ],
   "source": [
    "def drop(high):\n",
    "    length = height = 0.0\n",
    "    tmp = high\n",
    "    for i in range(9):\n",
    "        length += tmp\n",
    "        tmp = tmp / 2\n",
    "        height = tmp\n",
    "    print(\"共计路程：\"+str(length + high))\n",
    "    print(\"第十次反弹：\"+str(height / 2))  \n",
    "drop(80)"
   ]
  }
 ],
 "metadata": {
  "kernelspec": {
   "display_name": "Python 3",
   "language": "python",
   "name": "python3"
  },
  "language_info": {
   "codemirror_mode": {
    "name": "ipython",
    "version": 3
   },
   "file_extension": ".py",
   "mimetype": "text/x-python",
   "name": "python",
   "nbconvert_exporter": "python",
   "pygments_lexer": "ipython3",
   "version": "3.7.4"
  }
 },
 "nbformat": 4,
 "nbformat_minor": 4
}
