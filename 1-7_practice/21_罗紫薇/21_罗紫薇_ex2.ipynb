{
 "cells": [
  {
   "cell_type": "markdown",
   "metadata": {},
   "source": [
    "#### 1.输入a、b、c三个参数，求解ax2+bx+c=0的两个根，假定b2-4ac》0."
   ]
  },
  {
   "cell_type": "code",
   "execution_count": 19,
   "metadata": {},
   "outputs": [
    {
     "name": "stdin",
     "output_type": "stream",
     "text": [
      "a= 2\n",
      "b= 3\n",
      "c= 4\n"
     ]
    },
    {
     "name": "stdout",
     "output_type": "stream",
     "text": [
      "方程没有实数根\n"
     ]
    }
   ],
   "source": [
    "import math\n",
    "a=input(\"a=\")\n",
    "b=input(\"b=\")\n",
    "c=input(\"c=\")\n",
    "a=float(a)\n",
    "b=float(b)\n",
    "c=float(c)\n",
    "if a!=0:\n",
    "    d=b*b-4*a*c\n",
    "    if d>=0:\n",
    "        x1=(-b+math.sqrt(d))/2/a\n",
    "        x2=(-b-math.sqrt(d))/2/a\n",
    "        print(\"x1=\",x1,\"x2=\",x2)\n",
    "    else:\n",
    "        print(\"方程没有实数根\")\n",
    "else:\n",
    "    print(\"这不是一元二次方程\")"
   ]
  },
  {
   "cell_type": "markdown",
   "metadata": {},
   "source": [
    "#### 2.输入a、b、c三个参数，以它们作为三角形的三边，判断是否可以构成一一个三角形，如能则进一步计算其面积。三角形的面积s可以用以下公式计算: s=sqrt(p* (p- a)(p-b)(p-c))其中p= (a+b+e)/2。"
   ]
  },
  {
   "cell_type": "code",
   "execution_count": 20,
   "metadata": {},
   "outputs": [
    {
     "name": "stdin",
     "output_type": "stream",
     "text": [
      "a= 3\n",
      "b= 4\n",
      "c= 5\n"
     ]
    },
    {
     "name": "stdout",
     "output_type": "stream",
     "text": [
      "三角形的面积为： 6.0\n"
     ]
    }
   ],
   "source": [
    "import math\n",
    "a=input(\"a=\")\n",
    "b=input(\"b=\")\n",
    "c=input(\"c=\")\n",
    "a=float(a)\n",
    "b=float(b)\n",
    "c=float(c)\n",
    "s=0\n",
    "if (a+b)>c and (a+c)>b and (b+c)>a:\n",
    "    p=(a+b+c)/2\n",
    "    s=math.sqrt(p*(p-a)*(p-b)*(p-c))\n",
    "    print(\"三角形的面积为：\",s)\n",
    "else:\n",
    "    print(\"这不是一个三角形\")"
   ]
  },
  {
   "cell_type": "markdown",
   "metadata": {},
   "source": [
    "#### 3.输入一个字母，判断它是否为小写英文字母。"
   ]
  },
  {
   "cell_type": "code",
   "execution_count": 23,
   "metadata": {},
   "outputs": [
    {
     "name": "stdin",
     "output_type": "stream",
     "text": [
      "请输入一个字母: w\n"
     ]
    },
    {
     "name": "stdout",
     "output_type": "stream",
     "text": [
      "是小写字母\n"
     ]
    }
   ],
   "source": [
    "x= input(\"请输入一个字母:\")\n",
    "if(ord(x) >= ord('a') and ord(x) <= ord('z')):\n",
    "    print(\"是小写字母\")\n",
    "else:\n",
    "    print(\"不是小写字母!\")"
   ]
  },
  {
   "cell_type": "markdown",
   "metadata": {},
   "source": [
    "#### 4.从键盘输入5个字符，统计’0’字符出现的次数"
   ]
  },
  {
   "cell_type": "code",
   "execution_count": 24,
   "metadata": {},
   "outputs": [
    {
     "name": "stdin",
     "output_type": "stream",
     "text": [
      "请输入5个字符： 12004\n"
     ]
    },
    {
     "name": "stdout",
     "output_type": "stream",
     "text": [
      "count for 0: 2\n"
     ]
    }
   ],
   "source": [
    "x=list(input(\"请输入5个字符：\")[:4])\n",
    "print(\"count for 0:\",x.count(\"0\"))"
   ]
  },
  {
   "cell_type": "markdown",
   "metadata": {},
   "source": [
    "#### 5.输入两个整数，判断哪个大并输出结果。"
   ]
  },
  {
   "cell_type": "code",
   "execution_count": 25,
   "metadata": {},
   "outputs": [
    {
     "name": "stdin",
     "output_type": "stream",
     "text": [
      "a= 2\n",
      "b= 3\n"
     ]
    },
    {
     "name": "stdout",
     "output_type": "stream",
     "text": [
      "3\n"
     ]
    }
   ],
   "source": [
    "a=input(\"a=\")\n",
    "b=input(\"b=\")\n",
    "a=int(a)\n",
    "b=int(b)\n",
    "c=a\n",
    "if a<b:\n",
    "    c=b\n",
    "else:\n",
    "    c=a\n",
    "print(c)"
   ]
  },
  {
   "cell_type": "markdown",
   "metadata": {},
   "source": [
    "#### 6.输入一个字母，如它是一一个小写英文字母，则把它变为对应大写字母输出。"
   ]
  },
  {
   "cell_type": "code",
   "execution_count": null,
   "metadata": {},
   "outputs": [],
   "source": [
    "a = input(\"请输入一个字符：\")\n",
    "if 'z' >= a >= 'a':\n",
    "    print(a.upper())\n",
    "else:\n",
    "    print(a)"
   ]
  },
  {
   "cell_type": "markdown",
   "metadata": {},
   "source": [
    "#### 7.输入-一个年份，判断它是否为闰年"
   ]
  },
  {
   "cell_type": "code",
   "execution_count": 26,
   "metadata": {},
   "outputs": [
    {
     "name": "stdin",
     "output_type": "stream",
     "text": [
      "输入一个年份： 2008\n"
     ]
    },
    {
     "name": "stdout",
     "output_type": "stream",
     "text": [
      "这是闰年\n"
     ]
    }
   ],
   "source": [
    "x=input(\"输入一个年份：\")\n",
    "x=int(x)\n",
    "if (x%4==0 and x%100 !=0) or x%400==0:\n",
    "    print(\"这是闰年\")\n",
    "else:\n",
    "    print(\"这不是闰年\")"
   ]
  },
  {
   "cell_type": "markdown",
   "metadata": {},
   "source": [
    "#### 8.从键盘输入a、b两个数，按大小顺序输出他们"
   ]
  },
  {
   "cell_type": "code",
   "execution_count": 27,
   "metadata": {},
   "outputs": [
    {
     "name": "stdin",
     "output_type": "stream",
     "text": [
      "a= 3\n",
      "b= 4\n"
     ]
    },
    {
     "name": "stdout",
     "output_type": "stream",
     "text": [
      "b>a\n"
     ]
    }
   ],
   "source": [
    "a=input(\"a=\")\n",
    "b=input(\"b=\")\n",
    "a=float(a)\n",
    "b=float(b)\n",
    "if a>b:\n",
    "    print(\"a>b\")\n",
    "else:\n",
    "    print(\"b>a\")"
   ]
  },
  {
   "cell_type": "markdown",
   "metadata": {},
   "source": [
    "#### 9.输入a、b、c三个整数，找出最小的数"
   ]
  },
  {
   "cell_type": "code",
   "execution_count": 28,
   "metadata": {},
   "outputs": [
    {
     "name": "stdin",
     "output_type": "stream",
     "text": [
      "a= 2\n",
      "b= 3\n",
      "c= 4\n"
     ]
    },
    {
     "name": "stdout",
     "output_type": "stream",
     "text": [
      "2\n"
     ]
    }
   ],
   "source": [
    "a=input(\"a=\")\n",
    "b=input(\"b=\")\n",
    "c=input(\"c=\")\n",
    "a=int(a)\n",
    "b=int(b)\n",
    "c=int(c)\n",
    "d=a\n",
    "if a>b:\n",
    "    if b>c:\n",
    "        d=c\n",
    "    else:\n",
    "        d=b\n",
    "elif a<b:\n",
    "    if a>c:\n",
    "        d=c\n",
    "    else:\n",
    "        d=a\n",
    "print(d)"
   ]
  },
  {
   "cell_type": "markdown",
   "metadata": {},
   "source": [
    "#### 10.某企业发放的奖金根据利润提成。利润低于或等于10 万元时，奖金可提12%;利润高于10万元，低于20万元时，高于10万元的部分，可提成8.5%;20万到40万之间时，高于20万元的部分，可提成6%; 40 万到60万之间时高于40万元的部分，可提成4%; 60 万到100万之间时，高于60万元的部分，可提成2.5%，高于100万元时，超过100万元的部分按1%提成，从键盘输入当月利润，求应发放奖金总数?"
   ]
  },
  {
   "cell_type": "code",
   "execution_count": 29,
   "metadata": {},
   "outputs": [
    {
     "name": "stdin",
     "output_type": "stream",
     "text": [
      "输入利润(单位：万元）： 16\n"
     ]
    },
    {
     "name": "stdout",
     "output_type": "stream",
     "text": [
      "1.71\n"
     ]
    }
   ],
   "source": [
    "x=input(\"输入利润(单位：万元）：\")\n",
    "x=float(x)\n",
    "s=0\n",
    "if x<=10:\n",
    "    s=x*0.12\n",
    "elif (x>10 and x<=20):\n",
    "    s=10*0.12+(x-10)*0.085\n",
    "elif (x>20 and x<=40):\n",
    "    s=10*0.12+10*0.85+(x-20)*0.06\n",
    "elif (x>40 and x<=60):\n",
    "    s=10*0.12+10*0.85+20*0.06+(x-40)*0.04\n",
    "elif (x>60 and x<=100):\n",
    "    s=10*0.12+10*0.85+20*0.06+20*0.04+(x-60)*0.025\n",
    "else:\n",
    "    x>100\n",
    "    s=10*0.12+10*0.85+20*0.06+20*0.04+40*0.025+(x-100)*0.01\n",
    "print(s) "
   ]
  },
  {
   "cell_type": "markdown",
   "metadata": {},
   "source": [
    "#### 11.平面上有四个圆，圆心分别为(2，2)， (-2, 2)，(-2， -2)，(2, -2)，圆半径为1。今输入任一点的坐标，判断该点是否在这四个圆中，如在则给出是在哪一个圆中。"
   ]
  },
  {
   "cell_type": "code",
   "execution_count": 1,
   "metadata": {},
   "outputs": [
    {
     "name": "stdin",
     "output_type": "stream",
     "text": [
      "请输入x: 2\n",
      "请输入y: 3\n"
     ]
    },
    {
     "name": "stdout",
     "output_type": "stream",
     "text": [
      "在(2,2)的圆中\n"
     ]
    }
   ],
   "source": [
    "import math\n",
    "def get_len(x1, y1, x2, y2):\n",
    "    return math.sqrt((x1 - x2) ** 2 + (y1 - y2) ** 2)\n",
    "x = int(input(\"请输入x:\"))\n",
    "y = int(input(\"请输入y:\"))\n",
    "if get_len(2, 2, x, y) <= 1:\n",
    "    print(\"在(2,2)的圆中\")\n",
    "elif get_len(-2, 2, x, y) <= 1:\n",
    "    print(\"在(2,2)的圆中\")\n",
    "elif get_len(-2, -2, x, y) <= 1:\n",
    "    print(\"在(-2,-2)的圆中\")\n",
    "elif get_len(2, -2, x, y) <= 1:\n",
    "    print(\"在(2,-2)的圆中\")\n",
    "else:\n",
    "    print(\"不在任何圆中\")"
   ]
  },
  {
   "cell_type": "code",
   "execution_count": null,
   "metadata": {},
   "outputs": [],
   "source": []
  }
 ],
 "metadata": {
  "kernelspec": {
   "display_name": "Python 3",
   "language": "python",
   "name": "python3"
  },
  "language_info": {
   "codemirror_mode": {
    "name": "ipython",
    "version": 3
   },
   "file_extension": ".py",
   "mimetype": "text/x-python",
   "name": "python",
   "nbconvert_exporter": "python",
   "pygments_lexer": "ipython3",
   "version": "3.7.4"
  }
 },
 "nbformat": 4,
 "nbformat_minor": 4
}
