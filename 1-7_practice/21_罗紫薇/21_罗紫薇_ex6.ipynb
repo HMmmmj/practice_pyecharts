{
 "cells": [
  {
   "cell_type": "markdown",
   "metadata": {},
   "source": [
    "#### 1.编写一个程序建立-一个文本文件abc.txt, 向其中写入”abc\\n”并存盘，查看abc.txt是几.个字节的文件，说明为什么。"
   ]
  },
  {
   "cell_type": "code",
   "execution_count": 9,
   "metadata": {},
   "outputs": [],
   "source": [
    "with open('abc.txt', 'w+') as f:\n",
    "    f.write('abc\\n')\n",
    "# 5 字节 windows下默认为\\r\\n所以为5字节"
   ]
  },
  {
   "cell_type": "markdown",
   "metadata": {},
   "source": [
    "#### 2.用Windows记事本编写- -一个文本文件xyz.txt, 在其中存入”123”后打”Enter”键换行,用Windows记事本编写- -一个文本文件xyz.txt, 在其中存入”123”后打”Enter”键换行,存盘后查看文件应是5个字节长，用read(1) 读该文件，看看要读5次还是4次就把文件读完，为什么?编写程序验证。完，为什么?编写程序验证。"
   ]
  },
  {
   "cell_type": "code",
   "execution_count": 1,
   "metadata": {},
   "outputs": [
    {
     "name": "stdout",
     "output_type": "stream",
     "text": [
      "1\n",
      "2\n",
      "3\n",
      "4\n"
     ]
    }
   ],
   "source": [
    "with open('xyz.txt') as f:\n",
    "    i = 1\n",
    "    while f.read(1):\n",
    "        print(i)\n",
    "        i += 1\n",
    "# 4次"
   ]
  },
  {
   "cell_type": "markdown",
   "metadata": {},
   "source": [
    "#### 3.编写程序查找某个单词(键盘输入)所出现的行号及该行的内容，并统计该单词在文件共出现多少次。"
   ]
  },
  {
   "cell_type": "code",
   "execution_count": 1,
   "metadata": {},
   "outputs": [
    {
     "name": "stdout",
     "output_type": "stream",
     "text": [
      "1行,betterjdhsahfsjakgfhsagfhasgd\n",
      "\n",
      "5行,vcjnxhwbetterqiejkbhjfgef\n",
      "\n",
      "better共计出现2次\n"
     ]
    }
   ],
   "source": [
    "word = 'better'\n",
    "with open('test.txt') as f:\n",
    "    a = f.readline()\n",
    "    i = 1\n",
    "    count = 0\n",
    "    while a:\n",
    "        if word in a:\n",
    "            print(str(i)+\"行,\"+a)\n",
    "            count += 1\n",
    "        a = f.readline()\n",
    "        i = i+1\n",
    "    print(word+\"共计出现\"+str(count)+\"次\")"
   ]
  },
  {
   "cell_type": "markdown",
   "metadata": {},
   "source": [
    "#### 4.设一个文本文件marks.txt中存储了学生的姓名及成绩如下:张三96  李四95  .....每行为学生姓名与成绩,编写- - 个程序读取这些学生的姓名与成绩并按成绩的从高到低的顺序输出到另外-一个文件sorted.txt中。"
   ]
  },
  {
   "cell_type": "code",
   "execution_count": 4,
   "metadata": {},
   "outputs": [
    {
     "name": "stdout",
     "output_type": "stream",
     "text": [
      "[('李四', 98.0), ('张三', 96.0), ('王五', 81.0)]\n"
     ]
    }
   ],
   "source": [
    "dic = {}\n",
    "with open('grade.txt',encoding='utf-8') as f:\n",
    "    string = f.readline()\n",
    "    while string:\n",
    "        dic[string.split(' ')[0]] = float(string.split(' ')[1].replace('\\n',''))\n",
    "        string = f.readline()\n",
    "    dic = sorted(dic.items(), key=lambda d: d[1], reverse=True)\n",
    "    print(dic)\n",
    "result = {}\n",
    "for i in dic:\n",
    "    result[i[0]] = i[1]\n",
    "with open('sorted.txt','w',encoding='utf-8') as f:\n",
    "    for i in result.keys():\n",
    "        f.write(i+\" \"+str(result[i])+\"\\n\")"
   ]
  },
  {
   "cell_type": "markdown",
   "metadata": {},
   "source": [
    "#### 5.用二进制方式创建文件abc并写入”abc\\r\\nxyz\\n\\r123\\r456\\n\"的字符串，查看该文件有多少个字节，再用文本文件的方式打开此文件并用fgetc 来读，看看每次读出的是什么字符。"
   ]
  },
  {
   "cell_type": "code",
   "execution_count": 6,
   "metadata": {},
   "outputs": [
    {
     "name": "stdout",
     "output_type": "stream",
     "text": [
      "abc\n",
      "xyz\n",
      "456\n",
      "\n"
     ]
    }
   ],
   "source": [
    "def save(s):     \n",
    "    f = open(\"C:\\\\Users\\\\lzw\\\\abc\",\"wb\")      \n",
    "    f.write(s.encode())     \n",
    "    f.close() \n",
    "\n",
    "def read():     \n",
    "    f = open(\"C:\\\\Users\\\\lzw\\\\abc\",\"rb\")     \n",
    "       \n",
    "    data = f.read()     \n",
    "    s = data.decode()    \n",
    "    f.close()    \n",
    "    print(s)      \n",
    "s = \"abc\\r\\nxyz\\n\\r123\\r456\\n\" \n",
    "save(s) \n",
    "read()"
   ]
  },
  {
   "cell_type": "markdown",
   "metadata": {},
   "source": [
    "#### 6.用文本文件方式创建文件并写入”abc\\nxyz\\r\\n123\\r” 字符串，再用二进制方式打开读取每个字节，看看每个字节是什么。"
   ]
  },
  {
   "cell_type": "code",
   "execution_count": 6,
   "metadata": {},
   "outputs": [
    {
     "name": "stdout",
     "output_type": "stream",
     "text": [
      "b'a'\n",
      "b'b'\n",
      "b'c'\n",
      "b'\\r'\n",
      "b'\\n'\n",
      "b'x'\n",
      "b'y'\n",
      "b'z'\n",
      "b'\\r'\n",
      "b'\\r'\n",
      "b'\\n'\n",
      "b'1'\n",
      "b'2'\n",
      "b'3'\n",
      "b'\\r'\n"
     ]
    }
   ],
   "source": [
    "with open('test6.txt','w') as f:\n",
    "    f.write('abc\\nxyz\\r\\n123\\r')\n",
    "with open('test6.txt','rb') as f:\n",
    "    a = f.read(1)\n",
    "    while a:\n",
    "        print(a)\n",
    "        a = f.read(1)"
   ]
  },
  {
   "cell_type": "markdown",
   "metadata": {},
   "source": [
    "#### 7.编写一个程序，它能统计- -篇英文文章中的a ~z各个字母出现的次数(不分大小写)，并按出现次数的多少按顺序输出。"
   ]
  },
  {
   "cell_type": "code",
   "execution_count": 4,
   "metadata": {},
   "outputs": [
    {
     "name": "stdout",
     "output_type": "stream",
     "text": [
      "betterjdhsahfsjakgfhsagfhasgd\n",
      "fjashjkdhsadh\n",
      "djvsgfuywehnkwegfuhsdfdsjigwqy\n",
      "jkaguygfeqegywqudqw\n",
      "vcjnxhwbetterqiejkbhjfgef\n",
      "eqkorhferuifewfhioejsj\n",
      "{'b': 3, 'e': 14, 't': 4, 'r': 4, 'j': 12, 'd': 8, 'h': 13, 's': 10, 'a': 7, 'f': 13, 'k': 6, 'g': 10, 'v': 2, 'u': 5, 'y': 4, 'w': 7, 'n': 2, 'i': 4, 'q': 6, 'c': 1, 'x': 1, 'o': 2}\n",
      "e 14\n",
      "h 13\n",
      "f 13\n",
      "j 12\n",
      "s 10\n",
      "g 10\n",
      "d 8\n",
      "a 7\n",
      "w 7\n",
      "k 6\n",
      "q 6\n",
      "u 5\n",
      "t 4\n",
      "r 4\n",
      "y 4\n",
      "i 4\n",
      "b 3\n",
      "v 2\n",
      "n 2\n",
      "o 2\n",
      "c 1\n",
      "x 1\n"
     ]
    }
   ],
   "source": [
    "with open('test.txt') as f:\n",
    "    a = f.read()\n",
    "    print(a)\n",
    "    res = {}\n",
    "    for i in a:\n",
    "        if 'z' >= i >= 'a':\n",
    "            if i not in res:\n",
    "                res[i] = 1\n",
    "            else:\n",
    "                res[i] += 1\n",
    "    print(res)\n",
    "    res = sorted(res.items(), key=lambda d: d[1], reverse=True)\n",
    "    for i in res:\n",
    "        print(i[0] + ' ' +str(i[1]))"
   ]
  },
  {
   "cell_type": "code",
   "execution_count": null,
   "metadata": {},
   "outputs": [],
   "source": []
  }
 ],
 "metadata": {
  "kernelspec": {
   "display_name": "Python 3",
   "language": "python",
   "name": "python3"
  },
  "language_info": {
   "codemirror_mode": {
    "name": "ipython",
    "version": 3
   },
   "file_extension": ".py",
   "mimetype": "text/x-python",
   "name": "python",
   "nbconvert_exporter": "python",
   "pygments_lexer": "ipython3",
   "version": "3.7.4"
  }
 },
 "nbformat": 4,
 "nbformat_minor": 4
}
