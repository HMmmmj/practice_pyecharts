{
 "cells": [
  {
   "cell_type": "markdown",
   "metadata": {},
   "source": [
    "#### 1.定义一个数学中的复数类Complex，它有一个构造函数与一个显示函数，建立一个Complex 对象并调用该显示函数显示。"
   ]
  },
  {
   "cell_type": "code",
   "execution_count": 52,
   "metadata": {},
   "outputs": [
    {
     "name": "stdout",
     "output_type": "stream",
     "text": [
      "1 2\n"
     ]
    }
   ],
   "source": [
    "class Complex:\n",
    "    def __init__(self,a,b):\n",
    "        self.a = a\n",
    "        self.b = b\n",
    "        \n",
    "    def info(self):\n",
    "        print(self.a,self.b)\n",
    "        \n",
    "C = Complex(1,2)\n",
    "C.info()"
   ]
  },
  {
   "cell_type": "markdown",
   "metadata": {},
   "source": [
    "#### 2.定义一个计算机类MyComputer，它包含CPU类型(String 类型)、RAM内存大小（Integer 类型）、HD 硬盘大小(Integer 类型），设计它的构造函数，并设计一个显示函数，建立一个MyComputer对象并调用该显示函数显示。"
   ]
  },
  {
   "cell_type": "code",
   "execution_count": 53,
   "metadata": {},
   "outputs": [
    {
     "name": "stdout",
     "output_type": "stream",
     "text": [
      "CPU:i7-7700HQ  RAM:20  HD:200\n"
     ]
    }
   ],
   "source": [
    "class MyComputer:\n",
    "    def __init__(self,cup,ram,hd):\n",
    "        self.cup = str(cup)\n",
    "        self.ram = int(ram)\n",
    "        self.hd = int(hd)\n",
    "        \n",
    "    def info(self):\n",
    "        temp = f\"CPU:{self.cup}  RAM:{self.ram}  HD:{self.hd}\"\n",
    "        return temp\n",
    "\n",
    "C = MyComputer(\"i7-7700HQ\",20,200)\n",
    "print(C.info())"
   ]
  },
  {
   "cell_type": "markdown",
   "metadata": {},
   "source": [
    "#### 3.设计一个整数类MyInteger，它有一个整数变量，并有一个Value属性，可以通过为Value存取该变量的值，还有一个转二进制字符串的成员函数toBin及转十六进制字符串的成员函数 toHex。"
   ]
  },
  {
   "cell_type": "code",
   "execution_count": 54,
   "metadata": {},
   "outputs": [
    {
     "name": "stdout",
     "output_type": "stream",
     "text": [
      "8\n",
      "0b1000\n",
      "0x8\n"
     ]
    }
   ],
   "source": [
    "class MyInteger:\n",
    "    def __init__(self,v):\n",
    "        self.Value = v\n",
    "    \n",
    "    def toBin(self):\n",
    "        return(bin(self.Value))\n",
    "    \n",
    "    def toHex(self):\n",
    "        return(hex(self.Value))\n",
    "        \n",
    "C = MyInteger(8)\n",
    "print(C.Value)\n",
    "print(C.toBin())\n",
    "print(C.toHex())"
   ]
  },
  {
   "cell_type": "markdown",
   "metadata": {},
   "source": [
    "#### 4.建立一个普通人员类Person，包含姓名（m_name）、性别（m_sex）、年龄（m_age）成员变量。\n",
    "##### （1）建立Person 类，包含Private 成员m_name、m_sex、m_age成员变量；"
   ]
  },
  {
   "cell_type": "code",
   "execution_count": 55,
   "metadata": {},
   "outputs": [],
   "source": [
    "class Person:\n",
    "    def __init__(self,m_name,m_sex,m_age):\n",
    "        self.m_name = m_name\n",
    "        self.m_sex = m_sex\n",
    "        self.m_age = m_age"
   ]
  },
  {
   "cell_type": "markdown",
   "metadata": {},
   "source": [
    "##### （2）建立Person 的构造函数；"
   ]
  },
  {
   "cell_type": "code",
   "execution_count": 56,
   "metadata": {},
   "outputs": [],
   "source": [
    "class Person:\n",
    "    def __init__(self,m_name,m_sex,m_age):\n",
    "        self.m_name = m_name\n",
    "        self.m_sex = m_sex\n",
    "        self.m_age = m_age"
   ]
  },
  {
   "cell_type": "markdown",
   "metadata": {},
   "source": [
    "##### （3）建立一个显示过程Show()，显示该对象的数据；"
   ]
  },
  {
   "cell_type": "code",
   "execution_count": 57,
   "metadata": {},
   "outputs": [
    {
     "name": "stdout",
     "output_type": "stream",
     "text": [
      "张三 男 200\n"
     ]
    }
   ],
   "source": [
    "class Person:\n",
    "    def __init__(self,m_name,m_sex,m_age):\n",
    "        self.m_name=m_name\n",
    "        self.m_sex=m_sex\n",
    "        self.m_age=m_age\n",
    "        \n",
    "    def Show(self):\n",
    "        print(self.m_name,self.m_sex,self.m_age)\n",
    "\n",
    "C = Person(\"张三\",\"男\",200)\n",
    "C.Show()"
   ]
  },
  {
   "cell_type": "markdown",
   "metadata": {},
   "source": [
    "##### （4）派生一个学生类 Student，增加班级(m_class)，专业（m_major），设计这些类的构造函数；"
   ]
  },
  {
   "cell_type": "code",
   "execution_count": 58,
   "metadata": {},
   "outputs": [],
   "source": [
    "class Person:\n",
    "    def __init__(self,m_name,m_sex,m_age):\n",
    "        self.m_name=m_name\n",
    "        self.m_sex=m_sex\n",
    "        self.m_age=m_age\n",
    "        \n",
    "    def Show(self):\n",
    "        print(self.m_name,self.m_sex,self.m_age)\n",
    "        \n",
    "class Student(Person):\n",
    "    def __init__(self,m_name,m_sex,m_age,m_class,m_major):\n",
    "        Person.__init__(self,m_name,m_sex,m_age)\n",
    "        self.m_class=m_class\n",
    "        self.m_major=m_major"
   ]
  },
  {
   "cell_type": "markdown",
   "metadata": {},
   "source": [
    "##### （5）建立m_class、m_major对应的属性函数sClass()、sMajor();"
   ]
  },
  {
   "cell_type": "code",
   "execution_count": 59,
   "metadata": {},
   "outputs": [],
   "source": [
    " class Person:\n",
    "    def __init__(self,m_name,m_sex,m_age):\n",
    "        self.m_name=m_name\n",
    "        self.m_sex=m_sex\n",
    "        self.m_age=m_age\n",
    "        \n",
    "    def Show(self):\n",
    "        print(self.m_name,self.m_sex,self.m_age)\n",
    "        \n",
    "class Student(Person):\n",
    "    def __init__(self,m_name,m_sex,m_age,m_class,m_major):\n",
    "        Person.__init__(self,m_name,m_sex,m_age)\n",
    "        self.m_class=m_class\n",
    "        self.m_major=m_major\n",
    "        \n",
    "    def sClass(self):\n",
    "        return self.m_class\n",
    "    \n",
    "    def sMajor(self):\n",
    "        return self.m_major"
   ]
  },
  {
   "cell_type": "markdown",
   "metadata": {},
   "source": [
    "##### （6）建立显示成员函数Show()，显示该学生对象所有成员数据；"
   ]
  },
  {
   "cell_type": "code",
   "execution_count": 60,
   "metadata": {},
   "outputs": [
    {
     "name": "stdout",
     "output_type": "stream",
     "text": [
      "张三 男 200 181 程序设计\n"
     ]
    }
   ],
   "source": [
    "class Person:\n",
    "    def __init__(self,m_name,m_sex,m_age):\n",
    "        self.m_name=m_name\n",
    "        self.m_sex=m_sex\n",
    "        self.m_age=m_age\n",
    "        \n",
    "    def Show(self):\n",
    "        print(self.m_name,self.m_sex,self.m_age)\n",
    "        \n",
    "class Student(Person):\n",
    "    def __init__(self,m_name,m_sex,m_age,m_class,m_major):\n",
    "        Person.__init__(self,m_name,m_sex,m_age)\n",
    "        self.m_class=m_class\n",
    "        self.m_major=m_major\n",
    "        \n",
    "    def sClass(self):\n",
    "        return self.m_class\n",
    "    \n",
    "    def sMajor(self):\n",
    "        return self.m_major\n",
    "    \n",
    "    def Show(self):\n",
    "        print(self.m_name,self.m_sex,self.m_age,self.m_class,self.m_major)\n",
    "        \n",
    "C = Student(\"张三\",\"男\",\"200\",\"181\",\"程序设计\")\n",
    "C.Show()"
   ]
  },
  {
   "cell_type": "markdown",
   "metadata": {},
   "source": [
    "#### 5.建立一个时间类Time，它包含时hour,分minute，秒second的实例属性\n",
    "##### （1）设计时间显示函数 show(self）;"
   ]
  },
  {
   "cell_type": "code",
   "execution_count": 61,
   "metadata": {},
   "outputs": [
    {
     "name": "stdout",
     "output_type": "stream",
     "text": [
      "11:11:11\n"
     ]
    }
   ],
   "source": [
    "class Time:\n",
    "    def __init__(self,h,m,s):\n",
    "        self.hour = h\n",
    "        self.minute = m\n",
    "        self.second = s\n",
    "        \n",
    "    def show(self):\n",
    "        print(\"%02d:%02d:%02d\" %(self.hour,self.minute,self.second))\n",
    "        \n",
    "C = Time(11,11,11)\n",
    "C.show()"
   ]
  },
  {
   "cell_type": "markdown",
   "metadata": {},
   "source": [
    "##### （2）设计两个时间大小比较函数compare(self，t），其中t是另外一个时间；"
   ]
  },
  {
   "cell_type": "code",
   "execution_count": 63,
   "metadata": {},
   "outputs": [
    {
     "data": {
      "text/plain": [
       "'Initial value is large!'"
      ]
     },
     "execution_count": 63,
     "metadata": {},
     "output_type": "execute_result"
    }
   ],
   "source": [
    "class Time:\n",
    "    def __init__(self,h,m,s):\n",
    "        self.hour = h\n",
    "        self.minute = m\n",
    "        self.second = s\n",
    "        \n",
    "    def show(self):\n",
    "        print(\"%02d:%02d:%02d\" %(self.hour,self.minute,self.second))\n",
    "        \n",
    "    def compare(self,t):\n",
    "        self.tHour = int(t[:2])\n",
    "        self.tMinute = int(t[3:5])\n",
    "        self.tSecond = int(t[-2:])\n",
    "        if self.tHour > self.hour:\n",
    "            if self.tMinute > self.minute:\n",
    "                if self.tSecond > self.second:\n",
    "                    return f\"This Time({t}) is large!\"\n",
    "        else:\n",
    "            return f\"Initial value is large!\"\n",
    "C = Time(23,11,11)\n",
    "C.compare(\"22:23:24\")"
   ]
  }
 ],
 "metadata": {
  "kernelspec": {
   "display_name": "Python 3",
   "language": "python",
   "name": "python3"
  },
  "language_info": {
   "codemirror_mode": {
    "name": "ipython",
    "version": 3
   },
   "file_extension": ".py",
   "mimetype": "text/x-python",
   "name": "python",
   "nbconvert_exporter": "python",
   "pygments_lexer": "ipython3",
   "version": "3.7.4"
  }
 },
 "nbformat": 4,
 "nbformat_minor": 4
}
