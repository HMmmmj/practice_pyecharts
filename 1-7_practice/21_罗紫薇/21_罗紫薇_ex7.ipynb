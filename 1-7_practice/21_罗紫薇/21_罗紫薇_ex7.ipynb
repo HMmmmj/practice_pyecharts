{
 "cells": [
  {
   "cell_type": "markdown",
   "metadata": {},
   "source": [
    "# 1.简述 Python 连接MySQL数据库的方法？"
   ]
  },
  {
   "cell_type": "code",
   "execution_count": 1,
   "metadata": {},
   "outputs": [],
   "source": [
    "进入Python的安装目录的scripts子目录，找到pip.exe文件执行：pip install pymysql  在Python中就可以使用 import pymysql 引入这个模块驱动MySQL数据库。 \n",
    "Python连接MySQL数据库的方法： con = pymysql.connect(host = \"127.0.0.1\", port = 3306,user = \"root\",passwd = \"123456\",db=\"mydb\",char set = \"utf8\")"
   ]
  },
  {
   "cell_type": "markdown",
   "metadata": {},
   "source": [
    "# 2.fetchone()怎么样判断读到数据库末尾？"
   ]
  },
  {
   "cell_type": "code",
   "execution_count": null,
   "metadata": {},
   "outputs": [],
   "source": [
    "读到数据库末尾执行fecthone()会返回None。"
   ]
  },
  {
   "cell_type": "markdown",
   "metadata": {},
   "source": [
    "# 3.fetchall() 与 fetchone()有什么区别？"
   ]
  },
  {
   "cell_type": "code",
   "execution_count": null,
   "metadata": {},
   "outputs": [],
   "source": [
    "fetchall()一次可以读取所有的行，读取后一般再次使用for循环取出每一行；\n",
    "fetchone()获取一行数据，第一次执行时得到第一行数据，再次执行时的到第二行数据，以此类推，到了记录集的最后再次执行返回None 。"
   ]
  },
  {
   "cell_type": "markdown",
   "metadata": {},
   "source": [
    "# 4.rowcount()返回值代表什么？"
   ]
  },
  {
   "cell_type": "code",
   "execution_count": null,
   "metadata": {},
   "outputs": [],
   "source": [
    "返回前一个SQL进行update,insert,delete操作所影响的行数。"
   ]
  },
  {
   "cell_type": "markdown",
   "metadata": {},
   "source": [
    "# 5.MySQL 中怎么样使用带参数的SQL命令？"
   ]
  },
  {
   "cell_type": "code",
   "execution_count": null,
   "metadata": {},
   "outputs": [],
   "source": [
    "采用带参数的execute命令，这种命令基本形式是：cursor.execute(带参数的SQL命,(参数列表))\n",
    "其中带参数的 SQL命令是SQL命令中把不确定的值用参数表示，MySQL数据库参数统一用\"%s\"表示，参数列表是对应参数的具体值，它们放在一个元组或者列表中。"
   ]
  },
  {
   "cell_type": "markdown",
   "metadata": {},
   "source": [
    "# 6.数据库操作完成后为什么要调用commit() 函数？# "
   ]
  },
  {
   "cell_type": "code",
   "execution_count": null,
   "metadata": {},
   "outputs": [],
   "source": [
    "操作完数据库后调用commit()提交所有的操作，把更新写入数据库文件，不然这些更新只在内存中，没有真正更新到数据库文件中。"
   ]
  },
  {
   "cell_type": "markdown",
   "metadata": {},
   "source": [
    "# 7.什么是游标cursor，它有什么作用？"
   ]
  },
  {
   "cell_type": "code",
   "execution_count": null,
   "metadata": {},
   "outputs": [],
   "source": [
    "定义：游标，就是游动的标识，可以充当指针的作用，使用游标可以遍历查询数据库返回的结果集中的所有记录，但是每次只能提取一条记录，即每次只能指向并取出一行的数据，以便进行相应的操作。\n",
    "作用：从连接对象获取数据库游标对象cursor，cursor是一个重要的对象，可以使用它执行各种各样的SQL命令，方法是：cursor.execute(SQL)  其中execute是cursor的方法，用来执行SQL命令。"
   ]
  },
  {
   "cell_type": "markdown",
   "metadata": {},
   "source": [
    "# 8.Python 怎么样连接 Sqlite 数据库?"
   ]
  },
  {
   "cell_type": "code",
   "execution_count": null,
   "metadata": {},
   "outputs": [],
   "source": [
    "目前为止，Sqlite 最新版本是 sqlite3。Python自带对sqlite3数据库的支持，即安装了Python后就已经有了sqlite3数据库驱动。\n",
    "Python要连接sqlite3数据库，要先引入sqlite3模块，然后使用connect方法连接，例如：\n",
    "import sqlite3\n",
    "con = sqlite3.connect(\"test.db\")\n",
    "其中connect是sqlite3的一个方法，test.db是sqlite3数据库文件，文件名称与扩展名可以任意，test.db对应当前目录下的一个数据库文件。如果test.db不存在就创建它，并打开对\n",
    "它的连接，如果test.db已经存在就打开连接。connect 返回的对象con 是一个数据库连接对象，用它可以操作数据库。"
   ]
  }
 ],
 "metadata": {
  "kernelspec": {
   "display_name": "Python 3",
   "language": "python",
   "name": "python3"
  },
  "language_info": {
   "codemirror_mode": {
    "name": "ipython",
    "version": 3
   },
   "file_extension": ".py",
   "mimetype": "text/x-python",
   "name": "python",
   "nbconvert_exporter": "python",
   "pygments_lexer": "ipython3",
   "version": "3.7.1"
  }
 },
 "nbformat": 4,
 "nbformat_minor": 2
}
