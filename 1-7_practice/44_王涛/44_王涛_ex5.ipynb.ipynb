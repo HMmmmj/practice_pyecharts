{
 "cells": [
  {
   "cell_type": "code",
   "execution_count": 11,
   "metadata": {},
   "outputs": [
    {
     "ename": "SyntaxError",
     "evalue": "invalid syntax (<ipython-input-11-707bb5da4c3d>, line 3)",
     "output_type": "error",
     "traceback": [
      "\u001b[1;36m  File \u001b[1;32m\"<ipython-input-11-707bb5da4c3d>\"\u001b[1;36m, line \u001b[1;32m3\u001b[0m\n\u001b[1;33m    def_init_(self,x,y):\u001b[0m\n\u001b[1;37m                        ^\u001b[0m\n\u001b[1;31mSyntaxError\u001b[0m\u001b[1;31m:\u001b[0m invalid syntax\n"
     ]
    }
   ],
   "source": [
    "# 1. 定义一个数学中的复数类 Complex，它有一个构造函数与一个显示函数,建立一个Complex 对象并调用该显示函数显示。\n",
    "class Complex:\n",
    "    def_init_(self,x,y):\n",
    "    self.x=x\n",
    "    self.y=y\n",
    "    def show(self):\n",
    "        print(\"(\"+str(self.x)+\",\"+str(self.y)+\")\")\n",
    "        \n",
    "c=Complex(1,2)\n",
    "c.show()\n",
    "    "
   ]
  },
  {
   "cell_type": "code",
   "execution_count": 15,
   "metadata": {},
   "outputs": [
    {
     "ename": "SyntaxError",
     "evalue": "invalid syntax (<ipython-input-15-e80754ab6984>, line 3)",
     "output_type": "error",
     "traceback": [
      "\u001b[1;36m  File \u001b[1;32m\"<ipython-input-15-e80754ab6984>\"\u001b[1;36m, line \u001b[1;32m3\u001b[0m\n\u001b[1;33m    def_init_self(self,CPU,RAM,HD):\u001b[0m\n\u001b[1;37m                                   ^\u001b[0m\n\u001b[1;31mSyntaxError\u001b[0m\u001b[1;31m:\u001b[0m invalid syntax\n"
     ]
    }
   ],
   "source": [
    "# 2.定义一个计算机类 MyComputer，它包含 CPU 类型(String 类型）、RAM 内存大小(Integer类型)、HD 硬盘大小(Integer 类型)，设计它的构造函数，并设计一个显示函数，建立一个MyComputer 对象并调用该显示函数显示。\n",
    "class Computer:\n",
    "    def_init_self(self,CPU,RAM,HD):\n",
    "        self.CPU=CPU\n",
    "        self.RAM=RAM\n",
    "        self.HD=HD\n",
    "    def  show(self):\n",
    "        print(self.CPU,self.RAM,self.HD)\n",
    "        \n",
    "c=Computer(\"Intel i_7\",8,500)\n",
    "c.show()\n",
    "        "
   ]
  },
  {
   "cell_type": "code",
   "execution_count": 16,
   "metadata": {},
   "outputs": [
    {
     "ename": "SyntaxError",
     "evalue": "invalid syntax (<ipython-input-16-1e163e108d0d>, line 3)",
     "output_type": "error",
     "traceback": [
      "\u001b[1;36m  File \u001b[1;32m\"<ipython-input-16-1e163e108d0d>\"\u001b[1;36m, line \u001b[1;32m3\u001b[0m\n\u001b[1;33m    def_init_(self,v):\u001b[0m\n\u001b[1;37m                      ^\u001b[0m\n\u001b[1;31mSyntaxError\u001b[0m\u001b[1;31m:\u001b[0m invalid syntax\n"
     ]
    }
   ],
   "source": [
    "# 3.设计一个整数类 MyInteger，它有一个整数变量，并有一个 Value 属性，可以通过为 Value存取该变量的值，还有一个转二进制字符串的成员函数 toBin 及转十六进制字符串的成员函数 toHex。\n",
    "class MyInteger:\n",
    "    def_init_(self,v):\n",
    "        self.Value=v\n",
    "    def show(self):\n",
    "        print(self.Value)\n",
    "    def toHex(self):\n",
    "        return hex (self.Value)\n",
    "    def toBin(self):\n",
    "        return bin(self.Value)\n",
    "i=MyInteger(10)\n",
    "i.show()\n",
    "   print(i.toHex())\n",
    "print(i.toBin())\n",
    "    "
   ]
  },
  {
   "cell_type": "code",
   "execution_count": 17,
   "metadata": {},
   "outputs": [
    {
     "ename": "SyntaxError",
     "evalue": "invalid syntax (<ipython-input-17-398dffbe22fb>, line 9)",
     "output_type": "error",
     "traceback": [
      "\u001b[1;36m  File \u001b[1;32m\"<ipython-input-17-398dffbe22fb>\"\u001b[1;36m, line \u001b[1;32m9\u001b[0m\n\u001b[1;33m    def_init_(self,name,sex,age):\u001b[0m\n\u001b[1;37m                                 ^\u001b[0m\n\u001b[1;31mSyntaxError\u001b[0m\u001b[1;31m:\u001b[0m invalid syntax\n"
     ]
    }
   ],
   "source": [
    "# 4. 建立一个普通人员类 Person，包含姓名(m_name)、性别(m_sex)、年龄(m_age)成员变量。\n",
    "#(1) 建立 Person 类，包含 Private 成员 m_name、m_sex、m_age 成员变量；\n",
    "#(2) 建立 Person 的构造函数；\n",
    "#(3) 建立一个显示过程 Show()，显示该对象的数据；\n",
    "#(4) 派生一个学生类 Student，增加班级(m_class)，专业(m_major)，设计这些类的构造函数；\n",
    "#(5) 建立 m_class、m_major 对应的属性函数 sClass()、sMajor()；\n",
    "#(6) 建立显示成员函数 Show()，显示该学生对象所有成员数据\n",
    "class Person:\n",
    "    def_init_(self,name,sex,age):\n",
    "        self._m_name=name\n",
    "        self._m_sex=sex\n",
    "        self._m_age=age\n",
    "    def show(self,end=\"\\n\"):\n",
    "        print(self._m_name,self._m_sex,self,_m_age,end=end)\n",
    "    \n",
    "class student(Person):\n",
    "    def_init_(self,name,sex,age,mclass,major):\n",
    "        Person._init_(self,name,sex,age)\n",
    "        self._m_class=mclass\n",
    "        self._m_major=major\n",
    "    def sClass(self):\n",
    "        return self._m_class\n",
    "    def sMajor(self):\n",
    "        return self._m_major\n",
    "    def show(self):\n",
    "        Person.show(self,end=\"\")\n",
    "        print(self._m_class,self._m_major)\n",
    "s=Student(\"A\",\"M\",20,\"Class A\",\"Computer\")\n",
    "s.show()"
   ]
  },
  {
   "cell_type": "code",
   "execution_count": 2,
   "metadata": {},
   "outputs": [
    {
     "ename": "IndentationError",
     "evalue": "unindent does not match any outer indentation level (<tokenize>, line 13)",
     "output_type": "error",
     "traceback": [
      "\u001b[1;36m  File \u001b[1;32m\"<tokenize>\"\u001b[1;36m, line \u001b[1;32m13\u001b[0m\n\u001b[1;33m    def compare(self,t):\u001b[0m\n\u001b[1;37m    ^\u001b[0m\n\u001b[1;31mIndentationError\u001b[0m\u001b[1;31m:\u001b[0m unindent does not match any outer indentation level\n"
     ]
    }
   ],
   "source": [
    "# 5. 建立一个时间类 Time，它包含时 hour,分 minute，秒 second 的实例属性\n",
    "# (1) 设计时间显示函数 show(self)；\n",
    "# (2) 设计两个时间大小比较函数 compare(self,t)，其中 t 是另外一个时间；\n",
    "class Time:\n",
    "    def __init__(self,h,m,s):\n",
    "        self.hour=h\n",
    "        self.minute=m\n",
    "        self.second=s\n",
    "    def show(self):\n",
    "    s=\"{:02d}:{:02d}:{:02d}\".format(self.hour,self.minute,self.second)\n",
    "    print(s)\n",
    "    return s\n",
    "   def compare(self,t):\n",
    "    a=self.hour*3600+self.minute*60+self.second\n",
    "    b=t.hour*3600+t.minute*60+t.second\n",
    "    if a>b:\n",
    "    return 1\n",
    " elif a==b:\n",
    "    return 0\n",
    " else:\n",
    "    return -1\n",
    "a=Time(12,23,1)\n",
    "b=Time(10,6,34)\n",
    "c=a.compare(b)\n",
    "if c==0:\n",
    "    print(a.show(),\"is same as\",b.show())\n",
    "elif c>0:\n",
    "    print(a.show(),\"is later than\",b.show())\n",
    "else:\n",
    "print(a.show(),\"is earlier than\",b.show())\n",
    "结果：\n",
    "12:23:01\n",
    "10:06:34\n",
    "12:23:01 is later than 10:06:34"
   ]
  },
  {
   "cell_type": "code",
   "execution_count": null,
   "metadata": {},
   "outputs": [],
   "source": []
  }
 ],
 "metadata": {
  "kernelspec": {
   "display_name": "Python 3",
   "language": "python",
   "name": "python3"
  },
  "language_info": {
   "codemirror_mode": {
    "name": "ipython",
    "version": 3
   },
   "file_extension": ".py",
   "mimetype": "text/x-python",
   "name": "python",
   "nbconvert_exporter": "python",
   "pygments_lexer": "ipython3",
   "version": "3.7.4"
  }
 },
 "nbformat": 4,
 "nbformat_minor": 4
}
