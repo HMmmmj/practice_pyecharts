{
 "cells": [
  {
   "cell_type": "code",
   "execution_count": null,
   "metadata": {},
   "outputs": [],
   "source": [
    "# 1. 能直接修改字符串的某个字符吗？例如 s=\"abc\",s[0]= \"1\"可以吗？\n",
    "#  不可以"
   ]
  },
  {
   "cell_type": "code",
   "execution_count": null,
   "metadata": {},
   "outputs": [],
   "source": [
    "# 2. 输入一个字符串，输出它所包含的所有数字，例如输入\"23me3e\"，输出\"233\"\n",
    "s=input()\n",
    "for x in s:\n",
    "    if x>=\"0\" and x<=\"9\":\n",
    "        print(x,end=\"\")\n",
    "print()"
   ]
  },
  {
   "cell_type": "code",
   "execution_count": null,
   "metadata": {},
   "outputs": [],
   "source": [
    "# 3. 设计一个字符串函数 reverse(s)，它返回字符串 s 的反串，例如 reverse(\"abc\")返回\n",
    "\"cba\"。\n",
    "def reverse(s):\n",
    "    t=\"\"\n",
    "    for e in s:\n",
    "        t=e+t\n",
    "return t"
   ]
  },
  {
   "cell_type": "code",
   "execution_count": null,
   "metadata": {},
   "outputs": [],
   "source": [
    "#  4. 元祖与列表有什么不同？\n",
    "#  1）序列是Python中最基本的数据结构。序列中的每个元素都分配一个数字 - 它的位置，或索引，第一个索引是0，第二个索引是1，依此类推。列表是最常用的Python数据类型，它可以作为一个方括号内的逗号分隔值出现。\n",
    "#2）元组与列表类似，不同之处在于元组的元素不能修改。元组使用小括号，列表使用方括号。元组创建很简单，只需要在括号中添加元素，并使用逗号隔开即可。\n"
   ]
  },
  {
   "cell_type": "code",
   "execution_count": null,
   "metadata": {},
   "outputs": [],
   "source": [
    "# 5. 一个列表中的元素类型要求一致吗？例如 list=[1, \"a\"]是正确的吗？\n",
    "# 不要求\n",
    "# 正确"
   ]
  },
  {
   "cell_type": "code",
   "execution_count": null,
   "metadata": {},
   "outputs": [],
   "source": [
    "# 6. 列表是否还可以嵌套别的列表？列举一个例子说明。\n",
    "# 可以\n",
    "# 例子 \n",
    "matrix =[[1,2,3,4],[5,6,7,8],[9,10,11,12]]\n",
    "transposed =[]\n",
    "for i in range(4):\n",
    "    transposed_row =[]\n",
    "for row in matrix:\n",
    "     transposed_row.append(row[i])\n",
    "    transposed.append(transposed_row)"
   ]
  },
  {
   "cell_type": "code",
   "execution_count": null,
   "metadata": {},
   "outputs": [],
   "source": [
    "# 7. 用一个字典描述一个日期，包含年 year、月 month、日 day 的键字。\n",
    "dic = {'Mikey':'1','Tom':2,'Jerry':3,'Peter':4}"
   ]
  },
  {
   "cell_type": "code",
   "execution_count": null,
   "metadata": {},
   "outputs": [],
   "source": [
    "# 8. Python 的字典数据类型与 JSON 数据类有很多相似的地方，说明有哪些共同点。\n",
    "# python 字典的数据格式就json的数据格式。"
   ]
  },
  {
   "cell_type": "code",
   "execution_count": null,
   "metadata": {},
   "outputs": [],
   "source": [
    "# 9. 写出下列程序执行的结果：\n",
    "# name A\n",
    "sex M\n",
    "name B\n",
    "sex C"
   ]
  },
  {
   "cell_type": "code",
   "execution_count": null,
   "metadata": {},
   "outputs": [],
   "source": [
    "# 10. 如果使用字典描述一个时间，\n",
    "def interval(t1,t2):\n",
    "    a=t1[\"hour\"]*3600+t1[\"minute\"]*60+t1[\"second\"]\n",
    "    b=t2[\"hour\"]*3600+t2[\"minute\"]*60+t2[\"second\"]\n",
    "    if a>b:\n",
    "        c=a-b\n",
    "    else:\n",
    "        c=b-a\n",
    "    t={}\n",
    "    t[\"hour\"]=c//3600\n",
    "    t[\"mimute\"]=(c-t[\"hour\"]*3600)//60\n",
    "    t[\"second\"]=c-c-t[\"hour\"]*3600-t[\"minute\"]*60\n",
    "    return t"
   ]
  },
  {
   "cell_type": "code",
   "execution_count": null,
   "metadata": {},
   "outputs": [],
   "source": []
  }
 ],
 "metadata": {
  "kernelspec": {
   "display_name": "Python 3",
   "language": "python",
   "name": "python3"
  },
  "language_info": {
   "codemirror_mode": {
    "name": "ipython",
    "version": 3
   },
   "file_extension": ".py",
   "mimetype": "text/x-python",
   "name": "python",
   "nbconvert_exporter": "python",
   "pygments_lexer": "ipython3",
   "version": "3.7.4"
  }
 },
 "nbformat": 4,
 "nbformat_minor": 4
}
