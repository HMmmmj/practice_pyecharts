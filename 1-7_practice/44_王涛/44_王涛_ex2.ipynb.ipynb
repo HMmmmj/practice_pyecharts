{
 "cells": [
  {
   "cell_type": "markdown",
   "metadata": {},
   "source": [
    "# 1.输入a、b、c三个参数，求解ax2+bx+c=0的两个根，假定b2-4ac>0。"
   ]
  },
  {
   "cell_type": "code",
   "execution_count": 7,
   "metadata": {},
   "outputs": [
    {
     "name": "stdout",
     "output_type": "stream",
     "text": [
      "(-2.0916730868040165, -12.908326913195985)\n",
      "1\n"
     ]
    }
   ],
   "source": [
    "import math\n",
    "def get_result(a,b,c):\n",
    "    x = b*b - 4*a*c\n",
    "    if x <=0:\n",
    "        return \"error\"\n",
    "    #一元二次方程\n",
    "    x1 = (-b+math.sqrt(x))/2*a\n",
    "    x2 = (-b-math.sqrt(x))/2*a\n",
    "    return (x1,x2)\n",
    "\n",
    "\n",
    "print(get_result(3,5,1))"
   ]
  },
  {
   "cell_type": "code",
   "execution_count": 3,
   "metadata": {},
   "outputs": [],
   "source": [
    "a=(1,)\n",
    "a=(1,2)\n",
    "b=[1,2]"
   ]
  },
  {
   "cell_type": "code",
   "execution_count": null,
   "metadata": {},
   "outputs": [],
   "source": []
  }
 ],
 "metadata": {
  "kernelspec": {
   "display_name": "Python 2",
   "language": "python",
   "name": "python2"
  },
  "language_info": {
   "codemirror_mode": {
    "name": "ipython",
    "version": 2
   },
   "file_extension": ".py",
   "mimetype": "text/x-python",
   "name": "python",
   "nbconvert_exporter": "python",
   "pygments_lexer": "ipython2",
   "version": "2.7.15"
  }
 },
 "nbformat": 4,
 "nbformat_minor": 2
}

#include <stdio.h>
#include <stdlib.h>

int main()
{
    float a,b,c,area;
    printf("Input a,b,c:");
    scanf("%f,%f,%f",&a,&b,&c);
    if(a+b>c&&c-a<b)
    {
        area=0.5*(a+b+c);
        printf("area=%f",area);
    }
    else
        printf("不能构成三角形:");
        return 0;
}


char1 = input("请输入一个小写英文字母:");
if(ord(char1) >= ord('a') and ord(char1) <= ord('z')):
    print(char1.upper());
else:
    print("不是小写字母!")


s=list(input('输入字符串:'))
count=len(s)
a=0;b=0;c=0;d=0
for i in range(0,count):
	if (s[i]<='z' and s[i]>='a') or (s[i]<='Z' and s[i]>='A'):
		a+=1
	elif s[i]<='9' and s[i]>='0':
		b+=1
	elif s[i]==' ':
		c+=1
	else:
		d+=1
print(a,b,c,d)


a = int(input('请输入第一个整数：'))
 b = int(input('请输入第二个整数：'))
 if a > b:
 	print('a值最大')
 else:
 	print('b值最大')


char1 = input("请输入一个小写英文字母:");
if(ord(char1) >= ord('a') and ord(char1) <= ord('z')):
    print(char1.upper());
else:
    print("不是小写字母!");


#判断闰年程序
y=input(“year:”)
y=int(y)
if y%400==0 or y%100!=0 and y%4==0:
   print("Yes")
else:
   print("No")

#include<stdio.h>
int main()
{
  int*p1,*p2;
    int a,b;
  printf("请输入a和b:");
    scanf("%d,%d",&a,&b);
 p1=&a;p2=&b;
   if(a<b)
 {
	 p1=&b;p2=&a;
 }
printf("max=%d,min=%d\n",*p1,*p2);
return 0;
}


#输入a,b,c三个整数，将a,b,c 由大到小输出*/
 #include<stdio.h>
 main()
 {
 int a,b,c,k;
      printf("please input three integer number : \n");
     scanf("%d%d%d",&a,&b,&c);
     if (a<b)
     {
         k=a;
         a=b;
         b=k;
    }
     if (a<c)
     {
         k=a;
         a=c;
         c=k;
     }
     if (b<c)
     {
         k=b;
         b=c;
         c=k;
     }
    printf("These numbers from large to small are follows :\n");
     printf("a=%d\nb=%d\nc=%d\n",a,b,c);
     return 0;
 }







#求应发放金额总数
i = eval(input('净利润:'))
arr = [1000000,600000,400000,200000,100000,0]
rat = [0.01,0.015,0.03,0.05,0.075,0.1]
r = 0
for idx in range(0,6):
    if i>arr[idx]:
        r+=(i-arr[idx])*rat[idx]
        print ((i-arr[idx])*rat[idx])
        i=arr[idx]
print(r)


