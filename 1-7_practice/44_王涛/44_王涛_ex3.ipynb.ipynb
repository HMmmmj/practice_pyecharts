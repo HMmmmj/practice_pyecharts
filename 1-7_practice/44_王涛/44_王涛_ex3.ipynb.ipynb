{
 "cells": [
  {
   "cell_type": "code",
   "execution_count": 1,
   "metadata": {},
   "outputs": [
    {
     "name": "stdout",
     "output_type": "stream",
     "text": [
      "5050\n"
     ]
    }
   ],
   "source": [
    "# 1. 计算 1+2+4+……+100 的和。\n",
    "s=0\n",
    "for i in range(1,101):\n",
    " s=s+i\n",
    "print(s)"
   ]
  },
  {
   "cell_type": "code",
   "execution_count": 2,
   "metadata": {},
   "outputs": [
    {
     "name": "stdout",
     "output_type": "stream",
     "text": [
      "2.937774848474907\n"
     ]
    }
   ],
   "source": [
    "# 2. 计算 1+1/3+1/5+……+1/99 的和。\n",
    "s=0\n",
    "for i in range(1,100,2):\n",
    " s=s+1/i\n",
    "print(s)\n"
   ]
  },
  {
   "cell_type": "code",
   "execution_count": null,
   "metadata": {},
   "outputs": [],
   "source": [
    "# 3. 从键盘输入一个字符串，直到回车结束，统计字符串中的大小写英文字母各有多少个。\n",
    "s=input()\n",
    "a=0\n",
    "b=0\n",
    "for x in s:\n",
    "    if x>=\"a\" and x<=\"z\":\n",
    "        a+=1\n",
    "    elif x>=\"A\" and x<=\"Z\":\n",
    "        b+=1\n",
    "print(\"小写：\",a,\" 大写:\",b)\n"
   ]
  },
  {
   "cell_type": "code",
   "execution_count": null,
   "metadata": {},
   "outputs": [],
   "source": [
    "# 4. 有一分数序列：2/1，3/2，5/3，8/5，13/8，21/13…，求出这个数列的前 20 项之和。\n",
    "s=0\n",
    "a=1\n",
    "b=2\n",
    "t=\"\"\n",
    "for i in range(20):\n",
    "    t=t+str(b)+\"/\"+str(a)\n",
    "    if i<19:\n",
    "        t=t+\"+\"\n",
    "    else:\n",
    "        t=t+\"=\"\n",
    "    s=s+b/a\n",
    "    c=a+b\n",
    "    a=b\n",
    "    b=c\n",
    "print(t+str(s))\n"
   ]
  },
  {
   "cell_type": "code",
   "execution_count": null,
   "metadata": {},
   "outputs": [],
   "source": [
    "# 输入若干个同学的成绩，计算平均成绩，输入的成绩为负数或大于 100 时表示结束输入。\n",
    "s=0\n",
    "n=0\n",
    "while True:\n",
    "    m=float(input())\n",
    "    if m<0 or m>100:\n",
    "    break\n",
    "    s=s+m\n",
    "    n=n+1\n",
    "print(\"平均:\",s/n)\n"
   ]
  },
  {
   "cell_type": "code",
   "execution_count": null,
   "metadata": {},
   "outputs": [],
   "source": [
    "# 7．输入三个正整数 a、b、n，精确计算 a/b 的结果到小数后 n 位。\n"
   ]
  },
  {
   "cell_type": "code",
   "execution_count": null,
   "metadata": {},
   "outputs": [],
   "source": [
    "# 8．一个猴子第一天摘下若干个桃子，当即吃了一半，还不过瘾，又多吃了一个。\n",
    "n=10\n",
    "while True:\n",
    "    m=n\n",
    "    flag=True\n",
    "    for i in range(9):\n",
    "        if m%2==0:\n",
    "            m=m-m//2-1\n",
    "        else:\n",
    "            flag=False\n",
    "            break\n",
    "        if m==1 and flag:\n",
    "            break\n",
    "        n=n+1\n",
    "print(\"桃子数：\",n)\n",
    "for i in range(9):\n",
    "    print(i+1,n,\"->\",n-n//2-1)\n",
    "    n=n-n//2-1\n",
    "# 结果：\n",
    "桃子数： 1534\n",
    "1 1534 -> 766\n",
    "2 766 -> 382\n",
    "3 382 -> 190\n",
    "4 190 -> 94\n",
    "5 94 -> 46\n",
    "6 46 -> 22\n",
    "7 22 -> 10\n",
    "8 10 -> 4\n",
    "9 4 -> 1\n",
    "\n"
   ]
  },
  {
   "cell_type": "code",
   "execution_count": null,
   "metadata": {},
   "outputs": [],
   "source": [
    "# 9．有一序列：1，3，5，8，13，21...，用 while 循环求出这个数列的前 20 项之和。\n",
    "a=3\n",
    "b=5\n",
    "s=1+3+5\n",
    "t=\"1+3+5+\"\n",
    "i=0\n",
    "while i<17:\n",
    "    c=a+b\n",
    "    s=s+c\n",
    "    t=t+str(c)\n",
    "    if(i<16):\n",
    "        t=t+\"+\"\n",
    "    a=b\n",
    "    b=c\n",
    "    i=i+1\n",
    "print(t+\"=\"+str(s))\n",
    "# 结果：\n",
    "1+3+5+8+13+21+34+55+89+144+233+377+610+987+1597+2584+4181+6765+10946+17711=4636\n",
    "4"
   ]
  },
  {
   "cell_type": "code",
   "execution_count": null,
   "metadata": {},
   "outputs": [],
   "source": [
    "# 10．一个数如正好等于它的所有因子之和，则称为完数\n",
    "def isOK(n):\n",
    "    s=0\n",
    "    t=\"\"\n",
    "    for m in range(1,n):\n",
    "        if n%m==0:\n",
    "            s=s+m\n",
    "             t=t+str(m)+\"+\"\n",
    "    if s==n:\n",
    "        return t.strip(\"+\")\n",
    "    return \"\"\n",
    "for n in range(1,1001):\n",
    "    t=isOK(n)\n",
    "    if t:\n",
    "        print(n,\"=\",t)\n",
    "# 结果：\n",
    "6 = 1+2+3\n",
    "28 = 1+2+4+7+14\n",
    "496 = 1+2+4+8+16+31+62+124+248"
   ]
  },
  {
   "cell_type": "code",
   "execution_count": null,
   "metadata": {},
   "outputs": [],
   "source": [
    "# 11．有近千名学生排队，7 人一行余 3 人，5 人一行余 2 人，3 人一行余 1 人，编写程序\n",
    "m=1000\n",
    "n=1000\n",
    "while True:\n",
    "    if m%7==3 and m%5==2 and m%3==1:\n",
    "        print(m)\n",
    "        break\n",
    "    if n%7==3 and n%5==2 and n%3==1:\n",
    "        print(n)\n",
    "        break\n",
    "    n=n+1\n",
    "    m=m-1\n",
    "# 997\n"
   ]
  },
  {
   "cell_type": "code",
   "execution_count": null,
   "metadata": {},
   "outputs": [],
   "source": [
    "# 12．小华今年 12 岁，他妈妈比他大 20 岁，编写程序计算多少年后他妈妈年龄比他大一倍。\n",
    "xh=12\n",
    "mm=12+20\n",
    "y=0\n",
    "while True:\n",
    "    y=y+1\n",
    "    xh+=1\n",
    "    mm+=1\n",
    "    if mm==2*xh:\n",
    "        break\n",
    "print(y,\"年后:\",xh,mm)\n"
   ]
  },
  {
   "cell_type": "code",
   "execution_count": null,
   "metadata": {},
   "outputs": [],
   "source": [
    "# 13．两个乒乓球队进行比赛，各出三人。甲队为 a,b,c 三人，乙队为 x,y,z 三人。\n",
    "for a in ['x','y','z']:\n",
    "    for b in ['x','y','z']:\n",
    "        for c in ['x','y','z']:\n",
    "            if a!=b and a!=c and b!=c and a!='x' and c!='x' and c!='z':\n",
    "                print(\"a-\",a,\"b-\",b,\"c-\",c)\n",
    "# 结果：a- z b- x c- y"
   ]
  },
  {
   "cell_type": "code",
   "execution_count": null,
   "metadata": {},
   "outputs": [],
   "source": [
    "# 14．目前世界人口是 60 亿，如每年按 1.5%的比例增长，则多少年后是 80 亿？\n",
    "p=60\n",
    "y=0\n",
    "while True:\n",
    "    y=y+1\n",
    "    p=p*1.015\n",
    "    if p>=80:\n",
    "        break\n",
    "print(y)\n"
   ]
  },
  {
   "cell_type": "code",
   "execution_count": null,
   "metadata": {},
   "outputs": [],
   "source": [
    "# 15．一球从 80 米高度自由下落，每次落地后返回原高度的一半，再落下。求它在第 10 次落\n",
    "h=80\n",
    "s=h\n",
    "t=str(h)+\"+\"\n",
    "for i in range(9):\n",
    "    s=s+h\n",
    "    t=t+str(h)+\"+\"\n",
    "    h=h/2\n",
    "print(t.strip(\"+\"),\"=\",s)\n",
    "print(\"第 10 次：\",h)\n",
    "# 结果：\n",
    "80+80+40.0+20.0+10.0+5.0+2.5+1.25+0.625+0.3125 = 239.6875\n",
    "第 10 次： 0.15625"
   ]
  },
  {
   "cell_type": "code",
   "execution_count": null,
   "metadata": {},
   "outputs": [],
   "source": []
  }
 ],
 "metadata": {
  "kernelspec": {
   "display_name": "Python 3",
   "language": "python",
   "name": "python3"
  },
  "language_info": {
   "codemirror_mode": {
    "name": "ipython",
    "version": 3
   },
   "file_extension": ".py",
   "mimetype": "text/x-python",
   "name": "python",
   "nbconvert_exporter": "python",
   "pygments_lexer": "ipython3",
   "version": "3.7.4"
  }
 },
 "nbformat": 4,
 "nbformat_minor": 4
}
