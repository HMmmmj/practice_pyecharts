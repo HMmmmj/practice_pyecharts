{
 "cells": [
  {
   "cell_type": "code",
   "execution_count": 7,
   "metadata": {},
   "outputs": [
    {
     "name": "stdout",
     "output_type": "stream",
     "text": [
      "600\n"
     ]
    }
   ],
   "source": [
    "length= 10\n",
    "width=60\n",
    "area=length*width\n",
    "print(area)"
   ]
  },
  {
   "cell_type": "markdown",
   "metadata": {},
   "source": [
    "#2.输入一个时间值s,它是距当日午夜的秒值，计算目前的时间，时间按HH:MM:SS格式输出。"
   ]
  },
  {
   "cell_type": "code",
   "execution_count": 9,
   "metadata": {},
   "outputs": [
    {
     "name": "stdout",
     "output_type": "stream",
     "text": [
      "21.77777777777778:46.66666666666674:40\n",
      "00:53.333333333333336:20\n",
      "01.7658333333333334:45.95:57\n",
      "01.5258333333333334:31.549999999999997:33\n",
      "01.7658333333333334:45.95:57\n"
     ]
    }
   ],
   "source": [
    "def convert(s):\n",
    "    left = 3600*24 - s\n",
    "    m = left/60\n",
    "    s = left%60\n",
    "    h = 0\n",
    "    if m > 59 :\n",
    "        h = m/60\n",
    "        m = m%60\n",
    "    if h < 10:\n",
    "        h = '0'+ str(h)\n",
    "    if m < 10:\n",
    "        m = '0' + str(m)\n",
    "    if s < 10:\n",
    "        s = '0' + str(s)\n",
    "    return str(h)+\":\"+str(m)+\":\"+str(s)\n",
    "        \n",
    "\n",
    "    return \"23:00:00\"\n",
    "\n",
    "print(convert(8000))\n",
    "print(convert(83200))\n",
    "print(convert(80043))\n",
    "print(convert(80907))\n",
    "print(convert(80043))"
   ]
  },
  {
   "cell_type": "code",
   "execution_count": null,
   "metadata": {},
   "outputs": [],
   "source": [
    "a=1\n",
    "b=2\n",
    "c=3\n",
    "d=0\n",
    "print(a>b and b>c or a+b<c)#1\n",
    "print(a-b<c or b>c and not c)#2\n",
    "print(not d or b>c and not c)#3\n",
    "print(d and b and c>d and a*b>c)#4\n",
    "print(not (a>b and c>d))#5\n",
    "print(a*b>c or b+c>d and not d)#6\n",
    "print(c+d<=b+d and d<c or 2*b>c)#7\n",
    "print(d<b or c>a+b+d and b<c+a)#8"
   ]
  },
  {
   "cell_type": "code",
   "execution_count": null,
   "metadata": {},
   "outputs": [],
   "source": [
    "x>=-5 and x<=0"
   ]
  },
  {
   "cell_type": "code",
   "execution_count": 13,
   "metadata": {},
   "outputs": [
    {
     "name": "stdout",
     "output_type": "stream",
     "text": [
      "False\n",
      "False\n",
      "-1\n",
      "False\n",
      "False\n",
      "1\n"
     ]
    }
   ],
   "source": [
    "a=1\n",
    "b=2\n",
    "c=3\n",
    "x=4\n",
    "y=3\n",
    "print(a+b>c and b==c)#1\n",
    "print(not a<b and b !=c or x+y<=3)#2\n",
    "print(a+(b>x+y) and c-a and y-x)#3\n",
    "print(not (x==a) and (y==b) and 0)#4\n",
    "print(not (a+b)+c-1 and b+c/2)#5\n",
    "print(a or 1+'a' and b and 'c')#6"
   ]
  },
  {
   "cell_type": "code",
   "execution_count": 11,
   "metadata": {},
   "outputs": [
    {
     "name": "stdout",
     "output_type": "stream",
     "text": [
      "2\n"
     ]
    }
   ],
   "source": [
    "x = -2\n",
    "def abs2(x):\n",
    "    if x > 0:\n",
    "         return x\n",
    "    else:\n",
    "         return -x\n",
    "print(abs2(x))"
   ]
  },
  {
   "cell_type": "code",
   "execution_count": 13,
   "metadata": {},
   "outputs": [
    {
     "name": "stdout",
     "output_type": "stream",
     "text": [
      "-5\n"
     ]
    }
   ],
   "source": [
    "x = -3\n",
    "def f(x):\n",
    "    return 2*x+1\n",
    "print(f(x))"
   ]
  },
  {
   "cell_type": "code",
   "execution_count": null,
   "metadata": {},
   "outputs": [],
   "source": [
    "math = input(\"数学成绩:\")\n",
    "chinese = input(\"语文成绩:\")\n",
    "english = input(\"英文成绩：\")\n",
    "math = float(math)\n",
    "chinese = float(chinese)\n",
    "english = float (english)\n",
    "sum = math + chinese + english\n",
    "print(\"总分：\",sum,\"平均：\",sum/3)"
   ]
  },
  {
   "cell_type": "code",
   "execution_count": null,
   "metadata": {},
   "outputs": [],
   "source": []
  }
 ],
 "metadata": {
  "kernelspec": {
   "display_name": "Python 3",
   "language": "python",
   "name": "python3"
  },
  "language_info": {
   "codemirror_mode": {
    "name": "ipython",
    "version": 3
   },
   "file_extension": ".py",
   "mimetype": "text/x-python",
   "name": "python",
   "nbconvert_exporter": "python",
   "pygments_lexer": "ipython3",
   "version": "3.7.1"
  }
 },
 "nbformat": 4,
 "nbformat_minor": 2
}
